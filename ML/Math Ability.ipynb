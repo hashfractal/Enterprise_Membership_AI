{
 "cells": [
  {
   "attachments": {},
   "cell_type": "markdown",
   "metadata": {},
   "source": [
    "읽기 능력에따른 수학 점수를 알아보자"
   ]
  },
  {
   "cell_type": "code",
   "execution_count": 2,
   "metadata": {},
   "outputs": [],
   "source": [
    "import numpy as np\n",
    "import pandas as pd\n",
    "import matplotlib.pyplot as plt\n",
    "from sklearn.model_selection import train_test_split\n",
    "from sklearn.neighbors import KNeighborsRegressor\n",
    "from sklearn.linear_model import LinearRegression"
   ]
  },
  {
   "attachments": {},
   "cell_type": "markdown",
   "metadata": {},
   "source": [
    "# 1. 데이터 셋 준비하기\n",
    "\n",
    "- https://www.kaggle.com/datasets/rkiattisak/student-performance-in-mathematics\n",
    "\n",
    "- exams.csv 파일 참조\n",
    "\n",
    "- math score readingscore 두개의 특성을 사용"
   ]
  },
  {
   "cell_type": "code",
   "execution_count": 61,
   "metadata": {},
   "outputs": [
    {
     "name": "stdout",
     "output_type": "stream",
     "text": [
      "[[ 1.1]\n",
      " [ 1.3]\n",
      " [ 1.5]\n",
      " [ 2. ]\n",
      " [ 2.2]\n",
      " [ 2.9]\n",
      " [ 3. ]\n",
      " [ 3.2]\n",
      " [ 3.2]\n",
      " [ 3.7]\n",
      " [ 3.9]\n",
      " [ 4. ]\n",
      " [ 4. ]\n",
      " [ 4.1]\n",
      " [ 4.5]\n",
      " [ 4.9]\n",
      " [ 5.1]\n",
      " [ 5.3]\n",
      " [ 5.9]\n",
      " [ 6. ]\n",
      " [ 6.8]\n",
      " [ 7.1]\n",
      " [ 7.9]\n",
      " [ 8.2]\n",
      " [ 8.7]\n",
      " [ 9. ]\n",
      " [ 9.5]\n",
      " [ 9.6]\n",
      " [10.3]\n",
      " [10.5]\n",
      " [11.2]\n",
      " [11.5]\n",
      " [12.3]\n",
      " [12.9]\n",
      " [13.5]]\n",
      "[[ 39343]\n",
      " [ 46205]\n",
      " [ 37731]\n",
      " [ 43525]\n",
      " [ 39891]\n",
      " [ 56642]\n",
      " [ 60150]\n",
      " [ 54445]\n",
      " [ 64445]\n",
      " [ 57189]\n",
      " [ 63218]\n",
      " [ 55794]\n",
      " [ 56957]\n",
      " [ 57081]\n",
      " [ 61111]\n",
      " [ 67938]\n",
      " [ 66029]\n",
      " [ 83088]\n",
      " [ 81363]\n",
      " [ 93940]\n",
      " [ 91738]\n",
      " [ 98273]\n",
      " [101302]\n",
      " [113812]\n",
      " [109431]\n",
      " [105582]\n",
      " [116969]\n",
      " [112635]\n",
      " [122391]\n",
      " [121872]\n",
      " [127345]\n",
      " [126756]\n",
      " [128765]\n",
      " [135675]\n",
      " [139465]]\n"
     ]
    }
   ],
   "source": [
    "csvData = pd.read_csv('Data\\Salary.csv', header=0)\n",
    "readingscore = np.array(csvData[[\"YearsExperience\"]].values.tolist())\n",
    "mathscore = np.array(csvData[[\"Salary\"]].values.tolist())\n",
    "print(readingscore)\n",
    "print(mathscore)"
   ]
  },
  {
   "attachments": {},
   "cell_type": "markdown",
   "metadata": {},
   "source": [
    "2. 데이터 산점도 출력"
   ]
  },
  {
   "cell_type": "code",
   "execution_count": 62,
   "metadata": {},
   "outputs": [
    {
     "data": {
      "image/png": "[encoded data removed]",
      "text/plain": [
       "<Figure size 432x288 with 1 Axes>"
      ]
     },
     "metadata": {
      "needs_background": "light"
     },
     "output_type": "display_data"
    }
   ],
   "source": [
    "plt.scatter(readingscore, mathscore)\n",
    "plt.show()"
   ]
  },
  {
   "attachments": {},
   "cell_type": "markdown",
   "metadata": {},
   "source": [
    "3. 훈련 세트와 테스트 세트로 분활\n"
   ]
  },
  {
   "cell_type": "code",
   "execution_count": 63,
   "metadata": {},
   "outputs": [],
   "source": [
    "train_input, test_input, train_target, test_target = train_test_split(readingscore, mathscore, random_state=42)\n",
    "\n",
    "train_input = train_input.reshape(-1, 1)\n",
    "test_input = test_input.reshape(-1, 1)"
   ]
  },
  {
   "attachments": {},
   "cell_type": "markdown",
   "metadata": {},
   "source": [
    "선형 회귀 모델로 샘플 데이터 훈련 예측\n",
    "\n",
    "- 40에 대해 예측합니다."
   ]
  },
  {
   "cell_type": "code",
   "execution_count": 65,
   "metadata": {},
   "outputs": [
    {
     "name": "stdout",
     "output_type": "stream",
     "text": [
      "[[200938.68525914]] [[8603.62770643]] [28866.13113049]\n"
     ]
    }
   ],
   "source": [
    "lr = LinearRegression()\n",
    "\n",
    "lr.fit(train_input, train_target)\n",
    "print(lr.predict([[20]]), lr.coef_, lr.intercept_)"
   ]
  },
  {
   "attachments": {},
   "cell_type": "markdown",
   "metadata": {},
   "source": [
    "9. 선형 회귀 모델의 산점도 출력\n",
    "\n",
    "· 1차 방정식 그래프를 출력"
   ]
  },
  {
   "cell_type": "code",
   "execution_count": 72,
   "metadata": {},
   "outputs": [
    {
     "data": {
      "image/png": "[encoded data removed]",
      "text/plain": [
       "<Figure size 432x288 with 1 Axes>"
      ]
     },
     "metadata": {
      "needs_background": "light"
     },
     "output_type": "display_data"
    }
   ],
   "source": [
    "plt.scatter(train_input, train_target)\n",
    "\n",
    "plt.plot([0, 20], [0 * lr.coef_[0] + lr.intercept_, 20 * lr.coef_[0] + lr.intercept_])\n",
    "\n",
    "plt.scatter(20, 200938.68525914, marker=\"^\")\n",
    "plt.xlabel(\"read\")\n",
    "plt.ylabel(\"math\")\n",
    "plt.show()"
   ]
  },
  {
   "attachments": {},
   "cell_type": "markdown",
   "metadata": {},
   "source": [
    "10. 결정 계수(R2) 점수 확인\n",
    "\n",
    ". 훈련 세트와 테스트 세트의 R2확인"
   ]
  },
  {
   "cell_type": "code",
   "execution_count": 73,
   "metadata": {},
   "outputs": [
    {
     "name": "stdout",
     "output_type": "stream",
     "text": [
      "0.9742750759768667\n",
      "0.9094204577612954\n"
     ]
    }
   ],
   "source": [
    "print(lr.score(train_input, train_target))\n",
    "print(lr.score(test_input, test_target))"
   ]
  },
  {
   "attachments": {},
   "cell_type": "markdown",
   "metadata": {},
   "source": [
    "11. 2차 방정식 그리기\n",
    "\n",
    ". 훈련 세트와 테스트 세트 제곱근 생성"
   ]
  },
  {
   "cell_type": "code",
   "execution_count": 75,
   "metadata": {},
   "outputs": [
    {
     "name": "stdout",
     "output_type": "stream",
     "text": [
      "(26, 2) (9, 2)\n"
     ]
    }
   ],
   "source": [
    "train_poly = np.column_stack((train_input ** 2, train_input))\n",
    "test_poly = np.column_stack((test_input ** 2, test_input))\n",
    "print(train_poly.shape, test_poly.shape)"
   ]
  },
  {
   "attachments": {},
   "cell_type": "markdown",
   "metadata": {},
   "source": [
    "12. 선형 회귀 모델 훈련\n",
    "\n",
    ". 기울기, 절편 print()로 확인\n",
    "\n",
    "- predict()사용으로 예측 샘플 값 확인"
   ]
  },
  {
   "cell_type": "code",
   "execution_count": 82,
   "metadata": {},
   "outputs": [
    {
     "name": "stdout",
     "output_type": "stream",
     "text": [
      "[[ -157.46355667 10830.00074785]] [23455.77494406]\n",
      "[[177070.36723383]]\n"
     ]
    }
   ],
   "source": [
    "lr = LinearRegression()\n",
    "lr.fit(train_poly, train_target)\n",
    "\n",
    "print(lr.coef_, lr.intercept_)\n",
    "print(lr.predict([[20**2, 20]]))"
   ]
  },
  {
   "attachments": {},
   "cell_type": "markdown",
   "metadata": {},
   "source": [
    "13. 2차 방정식으로 훈련 세트의 산점도 출력"
   ]
  },
  {
   "cell_type": "code",
   "execution_count": 85,
   "metadata": {},
   "outputs": [
    {
     "data": {
      "image/png": "[encoded data removed]",
      "text/plain": [
       "<Figure size 432x288 with 1 Axes>"
      ]
     },
     "metadata": {
      "needs_background": "light"
     },
     "output_type": "display_data"
    }
   ],
   "source": [
    "point = np.arange(0, 22)\n",
    "plt.scatter(train_input, train_target)\n",
    "plt.plot(point, -157.46355667 * point ** 2 + 10830.00074785 *point+23455.77494406)\n",
    "plt.scatter(20, 177070.36723383, marker=\"^\")\n",
    "plt.xlabel(\"read\")\n",
    "plt.ylabel(\"math\")\n",
    "plt.show()"
   ]
  },
  {
   "attachments": {},
   "cell_type": "markdown",
   "metadata": {},
   "source": [
    "\n",
    "14. (최종) 훈련 세트, 테스트 세트로 결정계수(R2) 출력"
   ]
  },
  {
   "cell_type": "code",
   "execution_count": 86,
   "metadata": {},
   "outputs": [
    {
     "name": "stdout",
     "output_type": "stream",
     "text": [
      "0.9775180487789702\n",
      "0.9256586022967014\n"
     ]
    }
   ],
   "source": [
    "print(lr.score(train_poly, train_target))\n",
    "print(lr.score(test_poly, test_target))"
   ]
  }
 ],
 "metadata": {
  "kernelspec": {
   "display_name": "python36",
   "language": "python",
   "name": "python3"
  },
  "language_info": {
   "codemirror_mode": {
    "name": "ipython",
    "version": 3
   },
   "file_extension": ".py",
   "mimetype": "text/x-python",
   "name": "python",
   "nbconvert_exporter": "python",
   "pygments_lexer": "ipython3",
   "version": "3.6.13"
  },
  "orig_nbformat": 4
 },
 "nbformat": 4,
 "nbformat_minor": 2
}
