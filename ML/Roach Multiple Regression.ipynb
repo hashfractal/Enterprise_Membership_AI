{
 "cells": [
  {
   "attachments": {},
   "cell_type": "markdown",
   "metadata": {},
   "source": [
    "로치의 데이터를 기반으로 k-최근접 이웃 회귀 알고리즘, 선형회귀알고리즘을 활용하여 로치의 특성을 가지고 무게를 예측하는 모델\n",
    "Weight, Length1 컬럼 사용"
   ]
  },
  {
   "cell_type": "code",
   "execution_count": 43,
   "metadata": {},
   "outputs": [],
   "source": [
    "import numpy as np\n",
    "import pandas as pd\n",
    "from sklearn.model_selection import train_test_split\n",
    "from sklearn.preprocessing import PolynomialFeatures\n",
    "from sklearn.preprocessing import StandardScaler\n",
    "from sklearn.linear_model import LinearRegression\n",
    "from sklearn.linear_model import Ridge\n",
    "import matplotlib.pyplot as plt"
   ]
  },
  {
   "attachments": {},
   "cell_type": "markdown",
   "metadata": {},
   "source": [
    "# 1. 데이터 셋 준비하기\n",
    "\n",
    "- https://drive.google.com/drive/folders/15eNbhGQAHmeicbjOKThSnFvuNBst-8ME?usp=share_link\n",
    "\n",
    "- Fish.csv 파일 참조\n",
    "\n",
    "- Weight, Length1 두개의 특성을 사용"
   ]
  },
  {
   "cell_type": "code",
   "execution_count": 19,
   "metadata": {},
   "outputs": [
    {
     "name": "stdout",
     "output_type": "stream",
     "text": [
      "[[12.9    14.1    16.2     4.1472  2.268 ]\n",
      " [16.5    18.2    20.3     5.2983  2.8217]\n",
      " [17.5    18.8    21.2     5.5756  2.9044]\n",
      " [18.2    19.8    22.2     5.6166  3.1746]\n",
      " [18.6    20.     22.2     6.216   3.5742]\n",
      " [19.1    20.8    23.1     6.1677  3.3957]\n",
      " [19.4    21.     23.7     6.1146  3.2943]\n",
      " [20.4    22.     24.7     5.8045  3.7544]\n",
      " [20.5    22.     24.3     6.6339  3.5478]\n",
      " [20.5    22.5    25.3     7.0334  3.8203]\n",
      " [21.     22.5    25.      6.55    3.325 ]\n",
      " [21.1    22.5    25.      6.4     3.8   ]\n",
      " [22.     24.     27.2     7.5344  3.8352]\n",
      " [22.     23.4    26.7     6.9153  3.6312]\n",
      " [22.1    23.5    26.8     7.3968  4.1272]\n",
      " [23.6    25.2    27.9     7.0866  3.906 ]\n",
      " [24.     26.     29.2     8.8768  4.4968]\n",
      " [25.     27.     30.6     8.568   4.7736]\n",
      " [29.5    31.7    35.      9.485   5.355 ]]\n"
     ]
    }
   ],
   "source": [
    "df = pd.read_csv('Data\\Roach.csv', header=0)\n",
    "x = df[[\"Length1\", \"Length2\", \"Length3\", \"Height\", \"Width\"]].to_numpy()\n",
    "y = np.array(df[[\"Weight\"]].values.tolist())\n",
    "\n",
    "print(x)"
   ]
  },
  {
   "attachments": {},
   "cell_type": "markdown",
   "metadata": {},
   "source": [
    "2. 데이터 나누기"
   ]
  },
  {
   "cell_type": "code",
   "execution_count": 20,
   "metadata": {},
   "outputs": [
    {
     "name": "stdout",
     "output_type": "stream",
     "text": [
      "(14, 5) (14, 1)\n",
      "(5, 5) (5, 1)\n"
     ]
    }
   ],
   "source": [
    "trainInput, testInput, trainTarget, testTarget = train_test_split(x, y, random_state=42)\n",
    "print(trainInput.shape, trainTarget.shape)\n",
    "print(testInput.shape, testTarget.shape)"
   ]
  },
  {
   "cell_type": "code",
   "execution_count": 25,
   "metadata": {},
   "outputs": [
    {
     "name": "stdout",
     "output_type": "stream",
     "text": [
      "(14, 20)\n"
     ]
    }
   ],
   "source": [
    "poly = PolynomialFeatures(include_bias=False)\n",
    "poly.fit(trainInput)\n",
    "trainPoly = poly.transform(trainInput)\n",
    "\n",
    "print(trainPoly.shape)"
   ]
  },
  {
   "cell_type": "code",
   "execution_count": 26,
   "metadata": {},
   "outputs": [
    {
     "name": "stdout",
     "output_type": "stream",
     "text": [
      "(5, 20)\n"
     ]
    }
   ],
   "source": [
    "testPoly = poly.transform(testInput)\n",
    "\n",
    "print(testPoly.shape)"
   ]
  },
  {
   "cell_type": "code",
   "execution_count": 32,
   "metadata": {},
   "outputs": [
    {
     "name": "stdout",
     "output_type": "stream",
     "text": [
      "1.0\n"
     ]
    }
   ],
   "source": [
    "lr = LinearRegression()\n",
    "lr.fit(trainPoly, trainTarget)\n",
    "print(lr.score(trainPoly, trainTarget))"
   ]
  },
  {
   "cell_type": "code",
   "execution_count": 33,
   "metadata": {},
   "outputs": [
    {
     "name": "stdout",
     "output_type": "stream",
     "text": [
      "0.4003149885846832\n"
     ]
    }
   ],
   "source": [
    "print(lr.score(testPoly, testTarget))"
   ]
  },
  {
   "cell_type": "code",
   "execution_count": 37,
   "metadata": {},
   "outputs": [
    {
     "name": "stdout",
     "output_type": "stream",
     "text": [
      "(14, 251)\n"
     ]
    }
   ],
   "source": [
    "poly = PolynomialFeatures(degree = 5, include_bias = False)\n",
    "poly.fit(trainInput)\n",
    "trainPoly = poly.transform(trainInput)\n",
    "testPoly = poly.transform(testInput)\n",
    "\n",
    "print(trainPoly.shape)"
   ]
  },
  {
   "cell_type": "code",
   "execution_count": 38,
   "metadata": {},
   "outputs": [
    {
     "name": "stdout",
     "output_type": "stream",
     "text": [
      "1.0\n"
     ]
    }
   ],
   "source": [
    "lr.fit(trainPoly, trainTarget)\n",
    "print(lr.score(trainPoly, trainTarget))"
   ]
  },
  {
   "cell_type": "code",
   "execution_count": 41,
   "metadata": {},
   "outputs": [
    {
     "name": "stdout",
     "output_type": "stream",
     "text": [
      "0.71210684097359\n"
     ]
    }
   ],
   "source": [
    "print(lr.score(testPoly, testTarget))"
   ]
  },
  {
   "cell_type": "code",
   "execution_count": 45,
   "metadata": {},
   "outputs": [],
   "source": [
    "ss = StandardScaler()\n",
    "ss.fit(trainPoly)\n",
    "trainScaled = ss.transform(trainPoly)\n",
    "testScaled = ss.transform(testPoly)"
   ]
  },
  {
   "cell_type": "code",
   "execution_count": 46,
   "metadata": {},
   "outputs": [
    {
     "name": "stdout",
     "output_type": "stream",
     "text": [
      "0.9900100814561585\n"
     ]
    }
   ],
   "source": [
    "ridge = Ridge()\n",
    "ridge.fit(trainScaled, trainTarget)\n",
    "print(ridge.score(trainScaled, trainTarget))"
   ]
  },
  {
   "cell_type": "code",
   "execution_count": 47,
   "metadata": {},
   "outputs": [
    {
     "name": "stdout",
     "output_type": "stream",
     "text": [
      "0.9603369006246022\n"
     ]
    }
   ],
   "source": [
    "print(ridge.score(testScaled, testTarget))"
   ]
  },
  {
   "attachments": {},
   "cell_type": "markdown",
   "metadata": {},
   "source": [
    "알파값을통한 최적화"
   ]
  },
  {
   "cell_type": "code",
   "execution_count": 48,
   "metadata": {},
   "outputs": [],
   "source": [
    "trainScore = []\n",
    "testScore = []\n",
    "\n",
    "alphaList = [0.001, 0.01, 0.1, 1, 10, 100]\n",
    "\n",
    "for i in alphaList:\n",
    "    ridge = Ridge(alpha = i)\n",
    "    ridge.fit(trainScaled, trainTarget)\n",
    "    trainScore.append(ridge.score(trainScaled, trainTarget))\n",
    "    testScore.append(ridge.score(testScaled, testTarget))"
   ]
  },
  {
   "cell_type": "code",
   "execution_count": 49,
   "metadata": {},
   "outputs": [
    {
     "data": {
      "image/png": "[encoded data removed]",
      "text/plain": [
       "<Figure size 432x288 with 1 Axes>"
      ]
     },
     "metadata": {
      "needs_background": "light"
     },
     "output_type": "display_data"
    }
   ],
   "source": [
    "plt.plot(np.log10(alphaList), trainScore)\n",
    "plt.plot(np.log10(alphaList), testScore)\n",
    "plt.xlabel('alpha')\n",
    "plt.ylabel('R^2')\n",
    "plt.show()"
   ]
  },
  {
   "cell_type": "code",
   "execution_count": 53,
   "metadata": {},
   "outputs": [
    {
     "name": "stdout",
     "output_type": "stream",
     "text": [
      "0.9837211882247703\n",
      "0.9614807207158744\n"
     ]
    }
   ],
   "source": [
    "ridge = Ridge(alpha=10)\n",
    "ridge.fit(trainScaled, trainTarget)\n",
    "print(ridge.score(trainScaled, trainTarget))\n",
    "print(ridge.score(testScaled, testTarget))"
   ]
  }
 ],
 "metadata": {
  "kernelspec": {
   "display_name": "python36",
   "language": "python",
   "name": "python3"
  },
  "language_info": {
   "codemirror_mode": {
    "name": "ipython",
    "version": 3
   },
   "file_extension": ".py",
   "mimetype": "text/x-python",
   "name": "python",
   "nbconvert_exporter": "python",
   "pygments_lexer": "ipython3",
   "version": "3.6.13"
  },
  "orig_nbformat": 4
 },
 "nbformat": 4,
 "nbformat_minor": 2
}
