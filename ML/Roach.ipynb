{
 "cells": [
  {
   "attachments": {},
   "cell_type": "markdown",
   "metadata": {},
   "source": [
    "로치의 데이터를 기반으로 k-최근접 이웃 회귀 알고리즘, 선형회귀알고리즘을 활용하여 로치의 특성을 가지고 무게를 예측하는 모델\n",
    "Weight, Length1 컬럼 사용"
   ]
  },
  {
   "cell_type": "code",
   "execution_count": 25,
   "metadata": {},
   "outputs": [],
   "source": [
    "import numpy as np\n",
    "import pandas as pd\n",
    "import matplotlib.pyplot as plt\n",
    "from sklearn.model_selection import train_test_split\n",
    "from sklearn.neighbors import KNeighborsRegressor\n",
    "from sklearn.linear_model import LinearRegression"
   ]
  },
  {
   "attachments": {},
   "cell_type": "markdown",
   "metadata": {},
   "source": [
    "# 1. 데이터 셋 준비하기\n",
    "\n",
    "- https://drive.google.com/drive/folders/15eNbhGQAHmeicbjOKThSnFvuNBst-8ME?usp=share_link\n",
    "\n",
    "- Fish.csv 파일 참조\n",
    "\n",
    "- Weight, Length1 두개의 특성을 사용"
   ]
  },
  {
   "cell_type": "code",
   "execution_count": 11,
   "metadata": {},
   "outputs": [
    {
     "name": "stdout",
     "output_type": "stream",
     "text": [
      "[[ 40]\n",
      " [ 69]\n",
      " [ 78]\n",
      " [ 87]\n",
      " [120]\n",
      " [110]\n",
      " [120]\n",
      " [150]\n",
      " [145]\n",
      " [160]\n",
      " [140]\n",
      " [160]\n",
      " [169]\n",
      " [161]\n",
      " [200]\n",
      " [180]\n",
      " [290]\n",
      " [272]\n",
      " [390]]\n",
      "[[12.9]\n",
      " [16.5]\n",
      " [17.5]\n",
      " [18.2]\n",
      " [18.6]\n",
      " [19.1]\n",
      " [19.4]\n",
      " [20.4]\n",
      " [20.5]\n",
      " [20.5]\n",
      " [21. ]\n",
      " [21.1]\n",
      " [22. ]\n",
      " [22. ]\n",
      " [22.1]\n",
      " [23.6]\n",
      " [24. ]\n",
      " [25. ]\n",
      " [29.5]]\n"
     ]
    }
   ],
   "source": [
    "csvData = pd.read_csv('Data\\Roach.csv', header=0)\n",
    "weight = np.array(csvData[[\"Weight\"]].values.tolist())\n",
    "length = np.array(csvData[[\"Length1\"]].values.tolist())\n",
    "print(weight)\n",
    "print(length)"
   ]
  },
  {
   "attachments": {},
   "cell_type": "markdown",
   "metadata": {},
   "source": [
    "2. 데이터 산점도 출력"
   ]
  },
  {
   "cell_type": "code",
   "execution_count": 22,
   "metadata": {},
   "outputs": [
    {
     "data": {
      "image/png": "[encoded data removed]",
      "text/plain": [
       "<Figure size 432x288 with 1 Axes>"
      ]
     },
     "metadata": {
      "needs_background": "light"
     },
     "output_type": "display_data"
    }
   ],
   "source": [
    "plt.scatter(length, weight)\n",
    "plt.show()"
   ]
  },
  {
   "attachments": {},
   "cell_type": "markdown",
   "metadata": {},
   "source": [
    "3. 훈련 세트와 테스트 세트로 분활\n"
   ]
  },
  {
   "cell_type": "code",
   "execution_count": 13,
   "metadata": {},
   "outputs": [],
   "source": [
    "train_input, test_input, train_target, test_target = train_test_split(length, weight, random_state=42)\n",
    "\n",
    "train_input = train_input.reshape(-1, 1)\n",
    "test_input = test_input.reshape(-1, 1)"
   ]
  },
  {
   "attachments": {},
   "cell_type": "markdown",
   "metadata": {},
   "source": [
    "4. K-최근접 이웃 회귀 알고리즘 훈련/평가"
   ]
  },
  {
   "cell_type": "code",
   "execution_count": 18,
   "metadata": {},
   "outputs": [
    {
     "data": {
      "text/plain": [
       "KNeighborsRegressor(n_neighbors=3)"
      ]
     },
     "execution_count": 18,
     "metadata": {},
     "output_type": "execute_result"
    }
   ],
   "source": [
    "knr = KNeighborsRegressor(n_neighbors=3)\n",
    "knr.fit(train_input, train_target)"
   ]
  },
  {
   "attachments": {},
   "cell_type": "markdown",
   "metadata": {},
   "source": [
    "5. 샘플 데이터 무게 예측 출력([40cm])"
   ]
  },
  {
   "cell_type": "code",
   "execution_count": 19,
   "metadata": {},
   "outputs": [
    {
     "name": "stdout",
     "output_type": "stream",
     "text": [
      "[[317.33333333]]\n"
     ]
    }
   ],
   "source": [
    "print(knr.predict([[40]]))"
   ]
  },
  {
   "attachments": {},
   "cell_type": "markdown",
   "metadata": {},
   "source": [
    "6. k-최근접 이웃 회귀 모델 K매개 변수 산점도로 출력\n",
    "\n",
    "- 훈련 세트 중에서 이웃 샘플은 marker='D'로 출력"
   ]
  },
  {
   "cell_type": "code",
   "execution_count": 21,
   "metadata": {},
   "outputs": [
    {
     "data": {
      "image/png": "[encoded data removed]",
      "text/plain": [
       "<Figure size 432x288 with 1 Axes>"
      ]
     },
     "metadata": {
      "needs_background": "light"
     },
     "output_type": "display_data"
    }
   ],
   "source": [
    "dintance, indexes = knr.kneighbors([[40]])\n",
    "\n",
    "#훈련셋의 산점도\n",
    "plt.scatter(train_input, train_target)\n",
    "\n",
    "#훈련 셋 중에서 이웃 샘플만 다시 그림\n",
    "plt.scatter(train_input[indexes], train_target[indexes], marker = \"D\")\n",
    "\n",
    "#40cm 농어 데이터\n",
    "plt.scatter(40, 317, marker=\"^\")\n",
    "plt.xlabel(\"length\")\n",
    "plt.ylabel(\"weight\")\n",
    "plt.show()"
   ]
  },
  {
   "attachments": {},
   "cell_type": "markdown",
   "metadata": {},
   "source": [
    "7. 이웃 샘플의 타깃의 평균 값 확인\n",
    "\n",
    "- mean() 평균값 확인\n",
    "\n",
    "- predict() 사용으로 평균 값과 비교 확인 1/2"
   ]
  },
  {
   "cell_type": "code",
   "execution_count": 23,
   "metadata": {},
   "outputs": [
    {
     "name": "stdout",
     "output_type": "stream",
     "text": [
      "317.3333333333333 [[317.33333333]]\n"
     ]
    }
   ],
   "source": [
    "print(np.mean(train_target[indexes]), knr.predict([[100]]))"
   ]
  },
  {
   "attachments": {},
   "cell_type": "markdown",
   "metadata": {},
   "source": [
    "8. 선형 회귀 모델로 샘플 데이터 훈련 예측\n",
    "\n",
    "- 40cm 로치에 대해 예측합니다."
   ]
  },
  {
   "cell_type": "code",
   "execution_count": 38,
   "metadata": {},
   "outputs": [
    {
     "name": "stdout",
     "output_type": "stream",
     "text": [
      "[[655.39052183]] [[25.98933375]] [-384.18282799]\n"
     ]
    }
   ],
   "source": [
    "lr = LinearRegression()\n",
    "\n",
    "lr.fit(train_input, train_target)\n",
    "print(lr.predict([[40]]), lr.coef_, lr.intercept_)"
   ]
  },
  {
   "attachments": {},
   "cell_type": "markdown",
   "metadata": {},
   "source": [
    "9. 선형 회귀 모델의 산점도 출력\n",
    "\n",
    "· 1차 방정식 그래프를 출력"
   ]
  },
  {
   "cell_type": "code",
   "execution_count": 43,
   "metadata": {},
   "outputs": [
    {
     "data": {
      "image/png": "[encoded data removed]",
      "text/plain": [
       "<Figure size 432x288 with 1 Axes>"
      ]
     },
     "metadata": {
      "needs_background": "light"
     },
     "output_type": "display_data"
    }
   ],
   "source": [
    "plt.scatter(train_input, train_target)\n",
    "\n",
    "#15에서 50까지 1차 방정식 그래프를 그림\n",
    "plt.plot([17, 40], [17 * lr.coef_[0] + lr.intercept_, 40 * lr.coef_[0] + lr.intercept_])\n",
    "\n",
    "plt.scatter(40, 655.4, marker=\"^\")\n",
    "plt.xlabel(\"length\")\n",
    "plt.ylabel(\"weight\")\n",
    "plt.show()"
   ]
  },
  {
   "attachments": {},
   "cell_type": "markdown",
   "metadata": {},
   "source": [
    "10. 결정 계수(R2) 점수 확인\n",
    "\n",
    ". 훈련 세트와 테스트 세트의 R2확인"
   ]
  },
  {
   "cell_type": "code",
   "execution_count": 44,
   "metadata": {},
   "outputs": [
    {
     "name": "stdout",
     "output_type": "stream",
     "text": [
      "0.9228157420682633\n",
      "0.16077238705034036\n"
     ]
    }
   ],
   "source": [
    "print(lr.score(train_input, train_target))\n",
    "print(lr.score(test_input, test_target))"
   ]
  },
  {
   "attachments": {},
   "cell_type": "markdown",
   "metadata": {},
   "source": [
    "11. 2차 방정식 그리기\n",
    "\n",
    ". 훈련 세트와 테스트 세트 제곱근 생성"
   ]
  },
  {
   "cell_type": "code",
   "execution_count": 46,
   "metadata": {},
   "outputs": [
    {
     "name": "stdout",
     "output_type": "stream",
     "text": [
      "(14, 2) (5, 2)\n"
     ]
    }
   ],
   "source": [
    "train_poly = np.column_stack((train_input ** 2, train_input))\n",
    "test_poly = np.column_stack((test_input ** 2, test_input))\n",
    "print(train_poly.shape, test_poly.shape)"
   ]
  },
  {
   "attachments": {},
   "cell_type": "markdown",
   "metadata": {},
   "source": [
    "12. 선형 회귀 모델 훈련\n",
    "\n",
    ". 기울기, 절편 print()로 확인\n",
    "\n",
    "- predict()사용으로 예측 샘플 값 확인"
   ]
  },
  {
   "cell_type": "code",
   "execution_count": 59,
   "metadata": {},
   "outputs": [
    {
     "name": "stdout",
     "output_type": "stream",
     "text": [
      "[[0.42140427 6.50684183]] [-163.74218693]\n",
      "[[770.77831623]]\n"
     ]
    }
   ],
   "source": [
    "lr = LinearRegression()\n",
    "lr.fit(train_poly, train_target)\n",
    "\n",
    "print(lr.coef_, lr.intercept_)\n",
    "print(lr.predict([[40**2, 40]]))"
   ]
  },
  {
   "attachments": {},
   "cell_type": "markdown",
   "metadata": {},
   "source": [
    "13. 2차 방정식으로 훈련 세트의 산점도 출력"
   ]
  },
  {
   "cell_type": "code",
   "execution_count": 62,
   "metadata": {},
   "outputs": [
    {
     "data": {
      "image/png": "[encoded data removed]",
      "text/plain": [
       "<Figure size 432x288 with 1 Axes>"
      ]
     },
     "metadata": {
      "needs_background": "light"
     },
     "output_type": "display_data"
    }
   ],
   "source": [
    "point = np.arange(17, 41)\n",
    "plt.scatter(train_input, train_target)\n",
    "plt.plot(point, 0.42140427 * point ** 2 + 6.50684183 *point-163.74218693)\n",
    "plt.scatter(40, 771, marker=\"^\")\n",
    "plt.xlabel(\"length\")\n",
    "plt.ylabel(\"weight\")\n",
    "plt.show()"
   ]
  },
  {
   "attachments": {},
   "cell_type": "markdown",
   "metadata": {},
   "source": [
    "\n",
    "14. (최종) 훈련 세트, 테스트 세트로 결정계수(R2) 출력"
   ]
  },
  {
   "cell_type": "code",
   "execution_count": 63,
   "metadata": {},
   "outputs": [
    {
     "name": "stdout",
     "output_type": "stream",
     "text": [
      "0.9269681763382803\n",
      "0.7439718231139756\n"
     ]
    }
   ],
   "source": [
    "print(lr.score(train_poly, train_target))\n",
    "print(lr.score(test_poly, test_target))"
   ]
  }
 ],
 "metadata": {
  "kernelspec": {
   "display_name": "python36",
   "language": "python",
   "name": "python3"
  },
  "language_info": {
   "codemirror_mode": {
    "name": "ipython",
    "version": 3
   },
   "file_extension": ".py",
   "mimetype": "text/x-python",
   "name": "python",
   "nbconvert_exporter": "python",
   "pygments_lexer": "ipython3",
   "version": "3.6.13"
  },
  "orig_nbformat": 4
 },
 "nbformat": 4,
 "nbformat_minor": 2
}
