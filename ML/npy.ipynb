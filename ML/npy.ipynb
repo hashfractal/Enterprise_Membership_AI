{
 "cells": [
  {
   "cell_type": "code",
   "execution_count": 9,
   "metadata": {},
   "outputs": [],
   "source": [
    "import numpy as np"
   ]
  },
  {
   "cell_type": "code",
   "execution_count": 10,
   "metadata": {},
   "outputs": [
    {
     "name": "stdout",
     "output_type": "stream",
     "text": [
      "일반 배열 슬라이싱(인덱싱)\n",
      "[2, 3]\n",
      "[2, 3]\n",
      "[1, 2, 3, 4, 5]\n",
      "2\n",
      "[1, 2, 3, 4]\n",
      "[[1, 2, 3, 4], [5, 6, 7, 8], [9, 10, 11, 12]]\n",
      "[[1, 2, 3, 4], [5, 6, 7, 8]]\n",
      "[6, 7]\n",
      "numpy 배열 슬라이싱\n",
      "7\n",
      "7\n",
      "[[ 1  2  3  4]\n",
      " [ 5  6  7  8]\n",
      " [ 9 10 11 12]]\n",
      "[1 2 3 4]\n",
      "[1 5 9]\n",
      "[[ 1  2]\n",
      " [ 9 10]]\n",
      "[[ 1  2]\n",
      " [ 5  6]\n",
      " [ 9 10]]\n"
     ]
    }
   ],
   "source": [
    "arr = [1, 2, 3, 4, 5]\n",
    "print(\"일반 배열 슬라이싱(인덱싱)\")\n",
    "print(arr[1:3:])\n",
    "print(arr[1:3])\n",
    "print(arr[:])\n",
    "arr2 = [[1, 2, 3, 4],\n",
    "        [5, 6, 7, 8],\n",
    "        [9, 10, 11, 12]]\n",
    "print(arr2[0][1])\n",
    "print(arr2[0])\n",
    "print(arr2[0:3])\n",
    "print(arr2[0:3][0:2])\n",
    "print(arr2[1][1:3])\n",
    "\n",
    "print(\"numpy 배열 슬라이싱\")\n",
    "arr3 = np.array([[1, 2, 3, 4],\n",
    "                [5, 6, 7, 8],\n",
    "                [9, 10, 11, 12],\n",
    "                [13, 14, 15, 16]])\n",
    "print(arr3[1][2])\n",
    "print(arr3[1, 2])\n",
    "print(arr3[0:3])\n",
    "print(arr3[0:3][0])\n",
    "print(arr3[0:3, 0])\n",
    "print(arr3[0:3:2, 0:2])\n",
    "print(arr3[[0, 1, 2], 0:2])\n",
    "print(arr3[[0, 1, 2], [0, 1, 2]])"
   ]
  },
  {
   "cell_type": "code",
   "execution_count": null,
   "metadata": {},
   "outputs": [],
   "source": []
  }
 ],
 "metadata": {
  "kernelspec": {
   "display_name": "python36",
   "language": "python",
   "name": "python3"
  },
  "language_info": {
   "codemirror_mode": {
    "name": "ipython",
    "version": 3
   },
   "file_extension": ".py",
   "mimetype": "text/x-python",
   "name": "python",
   "nbconvert_exporter": "python",
   "pygments_lexer": "ipython3",
   "version": "3.6.13"
  },
  "orig_nbformat": 4
 },
 "nbformat": 4,
 "nbformat_minor": 2
}
