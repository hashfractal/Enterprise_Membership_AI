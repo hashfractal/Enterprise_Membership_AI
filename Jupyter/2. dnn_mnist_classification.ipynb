{
  "nbformat": 4,
  "nbformat_minor": 0,
  "metadata": {
    "colab": {
      "provenance": [],
      "toc_visible": true
    },
    "kernelspec": {
      "name": "python3",
      "display_name": "Python 3"
    },
    "accelerator": "GPU"
  },
  "cells": [
    {
      "cell_type": "markdown",
      "metadata": {
        "id": "vAknZx3Bo-yP"
      },
      "source": [
        "- https://www.tensorflow.org/api_docs/python/tf"
      ]
    },
    {
      "cell_type": "markdown",
      "metadata": {
        "id": "oAFT3yJCCp5g"
      },
      "source": [
        "## step 1. 데이터 준비"
      ]
    },
    {
      "cell_type": "code",
      "metadata": {
        "id": "CHRNnzijh_qG"
      },
      "source": [
        "# import \n",
        "from tensorflow.keras.datasets import mnist\n",
        "import matplotlib.pyplot as plt #시각화"
      ],
      "execution_count": 1,
      "outputs": []
    },
    {
      "cell_type": "code",
      "metadata": {
        "id": "nFZ_X2b3h_tJ",
        "colab": {
          "base_uri": "https://localhost:8080/"
        },
        "outputId": "9302d28d-35ce-4e15-b36a-ea37c51dec0a"
      },
      "source": [
        "# dataset 로드 \n",
        "\n",
        "(train_images, train_labels), (test_images, test_labels) = mnist.load_data()"
      ],
      "execution_count": 2,
      "outputs": [
        {
          "output_type": "stream",
          "name": "stdout",
          "text": [
            "Downloading data from https://storage.googleapis.com/tensorflow/tf-keras-datasets/mnist.npz\n",
            "11490434/11490434 [==============================] - 2s 0us/step\n"
          ]
        }
      ]
    },
    {
      "cell_type": "code",
      "metadata": {
        "id": "pDGkjbV1O0s-",
        "colab": {
          "base_uri": "https://localhost:8080/"
        },
        "outputId": "8d566c53-d4a7-4994-bc48-17ef1f2d862b"
      },
      "source": [
        "train_images.shape"
      ],
      "execution_count": 3,
      "outputs": [
        {
          "output_type": "execute_result",
          "data": {
            "text/plain": [
              "(60000, 28, 28)"
            ]
          },
          "metadata": {},
          "execution_count": 3
        }
      ]
    },
    {
      "cell_type": "markdown",
      "source": [],
      "metadata": {
        "id": "RPcAzs91xfIL"
      }
    },
    {
      "cell_type": "code",
      "metadata": {
        "id": "ywHNL87lO5iU",
        "colab": {
          "base_uri": "https://localhost:8080/"
        },
        "outputId": "45760495-78fe-41ca-b03c-43c783205b44"
      },
      "source": [
        "train_images[0]"
      ],
      "execution_count": 4,
      "outputs": [
        {
          "output_type": "execute_result",
          "data": {
            "text/plain": [
              "array([[  0,   0,   0,   0,   0,   0,   0,   0,   0,   0,   0,   0,   0,\n",
              "          0,   0,   0,   0,   0,   0,   0,   0,   0,   0,   0,   0,   0,\n",
              "          0,   0],\n",
              "       [  0,   0,   0,   0,   0,   0,   0,   0,   0,   0,   0,   0,   0,\n",
              "          0,   0,   0,   0,   0,   0,   0,   0,   0,   0,   0,   0,   0,\n",
              "          0,   0],\n",
              "       [  0,   0,   0,   0,   0,   0,   0,   0,   0,   0,   0,   0,   0,\n",
              "          0,   0,   0,   0,   0,   0,   0,   0,   0,   0,   0,   0,   0,\n",
              "          0,   0],\n",
              "       [  0,   0,   0,   0,   0,   0,   0,   0,   0,   0,   0,   0,   0,\n",
              "          0,   0,   0,   0,   0,   0,   0,   0,   0,   0,   0,   0,   0,\n",
              "          0,   0],\n",
              "       [  0,   0,   0,   0,   0,   0,   0,   0,   0,   0,   0,   0,   0,\n",
              "          0,   0,   0,   0,   0,   0,   0,   0,   0,   0,   0,   0,   0,\n",
              "          0,   0],\n",
              "       [  0,   0,   0,   0,   0,   0,   0,   0,   0,   0,   0,   0,   3,\n",
              "         18,  18,  18, 126, 136, 175,  26, 166, 255, 247, 127,   0,   0,\n",
              "          0,   0],\n",
              "       [  0,   0,   0,   0,   0,   0,   0,   0,  30,  36,  94, 154, 170,\n",
              "        253, 253, 253, 253, 253, 225, 172, 253, 242, 195,  64,   0,   0,\n",
              "          0,   0],\n",
              "       [  0,   0,   0,   0,   0,   0,   0,  49, 238, 253, 253, 253, 253,\n",
              "        253, 253, 253, 253, 251,  93,  82,  82,  56,  39,   0,   0,   0,\n",
              "          0,   0],\n",
              "       [  0,   0,   0,   0,   0,   0,   0,  18, 219, 253, 253, 253, 253,\n",
              "        253, 198, 182, 247, 241,   0,   0,   0,   0,   0,   0,   0,   0,\n",
              "          0,   0],\n",
              "       [  0,   0,   0,   0,   0,   0,   0,   0,  80, 156, 107, 253, 253,\n",
              "        205,  11,   0,  43, 154,   0,   0,   0,   0,   0,   0,   0,   0,\n",
              "          0,   0],\n",
              "       [  0,   0,   0,   0,   0,   0,   0,   0,   0,  14,   1, 154, 253,\n",
              "         90,   0,   0,   0,   0,   0,   0,   0,   0,   0,   0,   0,   0,\n",
              "          0,   0],\n",
              "       [  0,   0,   0,   0,   0,   0,   0,   0,   0,   0,   0, 139, 253,\n",
              "        190,   2,   0,   0,   0,   0,   0,   0,   0,   0,   0,   0,   0,\n",
              "          0,   0],\n",
              "       [  0,   0,   0,   0,   0,   0,   0,   0,   0,   0,   0,  11, 190,\n",
              "        253,  70,   0,   0,   0,   0,   0,   0,   0,   0,   0,   0,   0,\n",
              "          0,   0],\n",
              "       [  0,   0,   0,   0,   0,   0,   0,   0,   0,   0,   0,   0,  35,\n",
              "        241, 225, 160, 108,   1,   0,   0,   0,   0,   0,   0,   0,   0,\n",
              "          0,   0],\n",
              "       [  0,   0,   0,   0,   0,   0,   0,   0,   0,   0,   0,   0,   0,\n",
              "         81, 240, 253, 253, 119,  25,   0,   0,   0,   0,   0,   0,   0,\n",
              "          0,   0],\n",
              "       [  0,   0,   0,   0,   0,   0,   0,   0,   0,   0,   0,   0,   0,\n",
              "          0,  45, 186, 253, 253, 150,  27,   0,   0,   0,   0,   0,   0,\n",
              "          0,   0],\n",
              "       [  0,   0,   0,   0,   0,   0,   0,   0,   0,   0,   0,   0,   0,\n",
              "          0,   0,  16,  93, 252, 253, 187,   0,   0,   0,   0,   0,   0,\n",
              "          0,   0],\n",
              "       [  0,   0,   0,   0,   0,   0,   0,   0,   0,   0,   0,   0,   0,\n",
              "          0,   0,   0,   0, 249, 253, 249,  64,   0,   0,   0,   0,   0,\n",
              "          0,   0],\n",
              "       [  0,   0,   0,   0,   0,   0,   0,   0,   0,   0,   0,   0,   0,\n",
              "          0,  46, 130, 183, 253, 253, 207,   2,   0,   0,   0,   0,   0,\n",
              "          0,   0],\n",
              "       [  0,   0,   0,   0,   0,   0,   0,   0,   0,   0,   0,   0,  39,\n",
              "        148, 229, 253, 253, 253, 250, 182,   0,   0,   0,   0,   0,   0,\n",
              "          0,   0],\n",
              "       [  0,   0,   0,   0,   0,   0,   0,   0,   0,   0,  24, 114, 221,\n",
              "        253, 253, 253, 253, 201,  78,   0,   0,   0,   0,   0,   0,   0,\n",
              "          0,   0],\n",
              "       [  0,   0,   0,   0,   0,   0,   0,   0,  23,  66, 213, 253, 253,\n",
              "        253, 253, 198,  81,   2,   0,   0,   0,   0,   0,   0,   0,   0,\n",
              "          0,   0],\n",
              "       [  0,   0,   0,   0,   0,   0,  18, 171, 219, 253, 253, 253, 253,\n",
              "        195,  80,   9,   0,   0,   0,   0,   0,   0,   0,   0,   0,   0,\n",
              "          0,   0],\n",
              "       [  0,   0,   0,   0,  55, 172, 226, 253, 253, 253, 253, 244, 133,\n",
              "         11,   0,   0,   0,   0,   0,   0,   0,   0,   0,   0,   0,   0,\n",
              "          0,   0],\n",
              "       [  0,   0,   0,   0, 136, 253, 253, 253, 212, 135, 132,  16,   0,\n",
              "          0,   0,   0,   0,   0,   0,   0,   0,   0,   0,   0,   0,   0,\n",
              "          0,   0],\n",
              "       [  0,   0,   0,   0,   0,   0,   0,   0,   0,   0,   0,   0,   0,\n",
              "          0,   0,   0,   0,   0,   0,   0,   0,   0,   0,   0,   0,   0,\n",
              "          0,   0],\n",
              "       [  0,   0,   0,   0,   0,   0,   0,   0,   0,   0,   0,   0,   0,\n",
              "          0,   0,   0,   0,   0,   0,   0,   0,   0,   0,   0,   0,   0,\n",
              "          0,   0],\n",
              "       [  0,   0,   0,   0,   0,   0,   0,   0,   0,   0,   0,   0,   0,\n",
              "          0,   0,   0,   0,   0,   0,   0,   0,   0,   0,   0,   0,   0,\n",
              "          0,   0]], dtype=uint8)"
            ]
          },
          "metadata": {},
          "execution_count": 4
        }
      ]
    },
    {
      "cell_type": "code",
      "metadata": {
        "id": "Kks3YdAfO5op",
        "colab": {
          "base_uri": "https://localhost:8080/"
        },
        "outputId": "3afe57f2-2a1c-43b7-beef-2794a71556d3"
      },
      "source": [
        "train_labels[0]"
      ],
      "execution_count": 5,
      "outputs": [
        {
          "output_type": "execute_result",
          "data": {
            "text/plain": [
              "5"
            ]
          },
          "metadata": {},
          "execution_count": 5
        }
      ]
    },
    {
      "cell_type": "code",
      "metadata": {
        "id": "EdBsKoHrOnvY",
        "colab": {
          "base_uri": "https://localhost:8080/"
        },
        "outputId": "148cc632-b34c-4d13-ce29-ff5fe2927f51"
      },
      "source": [
        "test_images.shape"
      ],
      "execution_count": 6,
      "outputs": [
        {
          "output_type": "execute_result",
          "data": {
            "text/plain": [
              "(10000, 28, 28)"
            ]
          },
          "metadata": {},
          "execution_count": 6
        }
      ]
    },
    {
      "cell_type": "code",
      "metadata": {
        "id": "K5P6dgsHO_Hv",
        "colab": {
          "base_uri": "https://localhost:8080/",
          "height": 265
        },
        "outputId": "11eb4060-d836-4df7-d7a5-b9e6985c2730"
      },
      "source": [
        "# 데이터 보여주기\n",
        "plt.figure()\n",
        "plt.imshow(train_images[5])\n",
        "plt.colorbar()\n",
        "plt.grid(False)\n",
        "plt.show()"
      ],
      "execution_count": 7,
      "outputs": [
        {
          "output_type": "display_data",
          "data": {
            "text/plain": [
              "<Figure size 432x288 with 2 Axes>"
            ],
            "image/png": "[encoded data removed]"
          },
          "metadata": {
            "needs_background": "light"
          }
        }
      ]
    },
    {
      "cell_type": "markdown",
      "metadata": {
        "id": "MAsJnKe241fT"
      },
      "source": [
        "## step 2. 전처리"
      ]
    },
    {
      "cell_type": "code",
      "metadata": {
        "id": "HHa_-tmYMXG6"
      },
      "source": [
        "# 1. image data(28 * 28)를 1차원 텐서로 변환\\\n",
        "# reshape 을 이용하여 변경, why? Dense Layer 규칙 : 증명하려는 데이터가 1차원 데이터이어야 한다.(flatten)"
      ],
      "execution_count": 8,
      "outputs": []
    },
    {
      "cell_type": "code",
      "metadata": {
        "id": "YrNt2aO8XHYF"
      },
      "source": [
        "train_images = train_images.reshape(60000, 28 * 28)\n",
        "test_images = test_images.reshape(10000, 28 * 28)"
      ],
      "execution_count": 9,
      "outputs": []
    },
    {
      "cell_type": "code",
      "metadata": {
        "id": "2qdxy6BoXPvO"
      },
      "source": [
        "# Label Encoding\n",
        "# 0 : [1, 0, 0, 0, 0, 0, 0, 0, 0, 0]\n",
        "# 1 : [0, 1, 0, 0, 0, 0, 0, 0, 0, 0]\n",
        "# .\n",
        "# .\n",
        "# .\n",
        "# 9 : [1, 0, 0, 0, 0, 0, 0, 0, 0, 1]\n",
        "from tensorflow.keras.utils import to_categorical\n",
        "\n",
        "train_labels = to_categorical(train_labels)\n",
        "test_labels = to_categorical(test_labels)"
      ],
      "execution_count": 10,
      "outputs": []
    },
    {
      "cell_type": "markdown",
      "metadata": {
        "id": "jCQj-Ok_SGRp"
      },
      "source": [
        "One-Hot Encoding\n",
        "\n",
        "객체들을 Index를 주는 것이 아닌, 표로 만들어 각 카테고리에 해당하는 객체에게 1의 값을, 아닌 객체에게는 0의 값을 줌\n",
        "![화면 캡처 2020-11-04 214340.jpg](data:image/jpeg;base64,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)\n"
      ]
    },
    {
      "cell_type": "markdown",
      "metadata": {
        "id": "mFp2LF5CTe_-"
      },
      "source": [
        "반드시 바꿔야 하는 것은 아님\n",
        "하지만 문자는 안됨.."
      ]
    },
    {
      "cell_type": "code",
      "metadata": {
        "id": "co__I5E0MXKp",
        "colab": {
          "base_uri": "https://localhost:8080/"
        },
        "outputId": "9b5c863f-ffe4-4e9f-c8b8-e9dcf4c493b4"
      },
      "source": [
        "train_labels.shape"
      ],
      "execution_count": 11,
      "outputs": [
        {
          "output_type": "execute_result",
          "data": {
            "text/plain": [
              "(60000, 10)"
            ]
          },
          "metadata": {},
          "execution_count": 11
        }
      ]
    },
    {
      "cell_type": "code",
      "metadata": {
        "id": "5mpaKWQ9Yfkr",
        "colab": {
          "base_uri": "https://localhost:8080/"
        },
        "outputId": "a5fc1c0d-37c5-403e-bf6c-65906b4b6d45"
      },
      "source": [
        "train_labels[0]"
      ],
      "execution_count": 12,
      "outputs": [
        {
          "output_type": "execute_result",
          "data": {
            "text/plain": [
              "array([0., 0., 0., 0., 0., 1., 0., 0., 0., 0.], dtype=float32)"
            ]
          },
          "metadata": {},
          "execution_count": 12
        }
      ]
    },
    {
      "cell_type": "markdown",
      "metadata": {
        "id": "FRMFUkah9HN3"
      },
      "source": [
        "## step 3. 모델 만들기\n"
      ]
    },
    {
      "cell_type": "code",
      "metadata": {
        "id": "ALZFFygI5HBv"
      },
      "source": [
        "from tensorflow.keras import models, layers"
      ],
      "execution_count": 13,
      "outputs": []
    },
    {
      "cell_type": "code",
      "metadata": {
        "id": "apC0g21N5G2W"
      },
      "source": [
        "model = models.Sequential()\n",
        "# model.add(layers.Input(Shape=(28*28, )))\n",
        "# model.add(layers.Flatten(28, 28))\n",
        "# model.add(layers.Flatten())\n",
        "model.add(layers.Dense(units=512, activation='relu', input_shape=(28 * 28,)))\n",
        "model.add(layers.Dense(units=10, activation='softmax'))\n",
        "# 0~9 분류 10, 확률값"
      ],
      "execution_count": 14,
      "outputs": []
    },
    {
      "cell_type": "markdown",
      "metadata": {
        "id": "GtswH3uOX2TN"
      },
      "source": [
        "SoftMax = 확률값으로 만들어 줌\n",
        "\n",
        "Flatten = Denes Layer 사용 할 때 사용\n",
        "          reshape - 1차원으로 변경\n",
        "          만약 reshape을 사용하지 않고 돌렸을 경우, Flatten을 하면 된다."
      ]
    },
    {
      "cell_type": "code",
      "metadata": {
        "id": "wA3zk-IIXUcC",
        "colab": {
          "base_uri": "https://localhost:8080/"
        },
        "outputId": "8b0bbb1c-f383-48e1-9ea6-83135a8c9625"
      },
      "source": [
        "model.summary()"
      ],
      "execution_count": 15,
      "outputs": [
        {
          "output_type": "stream",
          "name": "stdout",
          "text": [
            "Model: \"sequential\"\n",
            "_________________________________________________________________\n",
            " Layer (type)                Output Shape              Param #   \n",
            "=================================================================\n",
            " dense (Dense)               (None, 512)               401920    \n",
            "                                                                 \n",
            " dense_1 (Dense)             (None, 10)                5130      \n",
            "                                                                 \n",
            "=================================================================\n",
            "Total params: 407,050\n",
            "Trainable params: 407,050\n",
            "Non-trainable params: 0\n",
            "_________________________________________________________________\n"
          ]
        }
      ]
    },
    {
      "cell_type": "markdown",
      "metadata": {
        "id": "HdBf0dXMC4TC"
      },
      "source": [
        "## step 4. 손실함수, 옵티마이저, 성능지표 선택"
      ]
    },
    {
      "cell_type": "code",
      "metadata": {
        "id": "IlacAkxIXMhl"
      },
      "source": [
        "model.compile(optimizer='rmsprop', # 경사하강법\n",
        "              loss='categorical_crossentropy', #오차 구하는 함수\n",
        "              metrics=['accuracy']) # 평가 지표"
      ],
      "execution_count": 16,
      "outputs": []
    },
    {
      "cell_type": "markdown",
      "metadata": {
        "id": "5wb1h6MBakJY"
      },
      "source": [
        "categorical = 예측값이 확률로 나올 때 사용\n",
        "categorical_crossentropy = 예측값으로 나오면서, one-hot Encoding 일 경우\n",
        "                           만약 One-hot Encoding이 아닐 경우 실행 안됨"
      ]
    },
    {
      "cell_type": "markdown",
      "metadata": {
        "id": "HfSGjwCDMasa"
      },
      "source": [
        "## step 5. fit"
      ]
    },
    {
      "cell_type": "code",
      "metadata": {
        "id": "sKPbTYQXiB7W",
        "colab": {
          "base_uri": "https://localhost:8080/"
        },
        "outputId": "ad300e15-0458-45e5-ab68-24db1fed087c"
      },
      "source": [
        "# fit은 훈련하는 것\n",
        "history = model.fit(train_images, train_labels,  # x, y\n",
        "                    epochs=30,                   # 전체 샘플이 반복되는 수 (60000건을 30번 훈련)\n",
        "                    batch_size=128,              # 60000건이 훈련 할 때, 주어진 사이즈(128개)만큼 들어간다. 128개가 들어간 후 예측값이 나오고, 오차 계산 후,\n",
        "                                                 # 오차가 w에 영향을 주고(Optimize), 128개의 loss의 평균을 구해 영향도를 분석하여 평가 지표를 구함\n",
        "                                                 # 보통은 속도때문이지만, 에러값의 영향도를 낮추기도 함\n",
        "                                                 # 60000/128 = 375 Step수 만큼 w와 bias를 업데이트 함\n",
        "                    validation_split=0.2)        # 60000건 중에서 0.2% 검증에 사용함\n",
        "                                                 # Testing 데이터가 이상할 경우 Validate를 통해 얼마만큼의 성능이 나오는지 확인함\n",
        "                                                 # 한 Epoch이 끝날 때 Validate를 진행함 (여기선 총 30회 진행함)\n",
        "                                                 # 1. OverFitting 확인 용도 2. Tuning 하는 용도로 사용\n",
        "                                                 # loss와 accuracy는 훈련 데이터의 값\n",
        "                                                 # val_loss와 val_accuracy Epoch이 끝난 후 Validate Set을 이용하여 예측하였을 때의 진행 값\n",
        "                                                 # loss값이 그냥 훈련 한 값인지 외운 값인지 확인하기 위해 val_loss랑 비교함"
      ],
      "execution_count": 17,
      "outputs": [
        {
          "output_type": "stream",
          "name": "stdout",
          "text": [
            "Epoch 1/30\n",
            "375/375 [==============================] - 8s 3ms/step - loss: 6.9902 - accuracy: 0.8889 - val_loss: 1.1028 - val_accuracy: 0.9449\n",
            "Epoch 2/30\n",
            "375/375 [==============================] - 1s 3ms/step - loss: 0.9289 - accuracy: 0.9509 - val_loss: 1.1936 - val_accuracy: 0.9438\n",
            "Epoch 3/30\n",
            "375/375 [==============================] - 1s 3ms/step - loss: 0.6140 - accuracy: 0.9648 - val_loss: 0.9225 - val_accuracy: 0.9576\n",
            "Epoch 4/30\n",
            "375/375 [==============================] - 1s 3ms/step - loss: 0.4376 - accuracy: 0.9713 - val_loss: 0.8413 - val_accuracy: 0.9602\n",
            "Epoch 5/30\n",
            "375/375 [==============================] - 1s 3ms/step - loss: 0.3730 - accuracy: 0.9759 - val_loss: 0.8697 - val_accuracy: 0.9666\n",
            "Epoch 6/30\n",
            "375/375 [==============================] - 1s 3ms/step - loss: 0.3186 - accuracy: 0.9791 - val_loss: 0.9264 - val_accuracy: 0.9618\n",
            "Epoch 7/30\n",
            "375/375 [==============================] - 1s 3ms/step - loss: 0.2878 - accuracy: 0.9819 - val_loss: 1.0492 - val_accuracy: 0.9634\n",
            "Epoch 8/30\n",
            "375/375 [==============================] - 2s 4ms/step - loss: 0.2717 - accuracy: 0.9837 - val_loss: 0.9383 - val_accuracy: 0.9669\n",
            "Epoch 9/30\n",
            "375/375 [==============================] - 1s 3ms/step - loss: 0.2336 - accuracy: 0.9856 - val_loss: 0.9742 - val_accuracy: 0.9671\n",
            "Epoch 10/30\n",
            "375/375 [==============================] - 1s 3ms/step - loss: 0.2193 - accuracy: 0.9870 - val_loss: 1.1607 - val_accuracy: 0.9628\n",
            "Epoch 11/30\n",
            "375/375 [==============================] - 1s 3ms/step - loss: 0.1957 - accuracy: 0.9883 - val_loss: 1.0538 - val_accuracy: 0.9687\n",
            "Epoch 12/30\n",
            "375/375 [==============================] - 1s 3ms/step - loss: 0.1873 - accuracy: 0.9891 - val_loss: 1.0771 - val_accuracy: 0.9696\n",
            "Epoch 13/30\n",
            "375/375 [==============================] - 1s 3ms/step - loss: 0.1802 - accuracy: 0.9895 - val_loss: 1.0356 - val_accuracy: 0.9693\n",
            "Epoch 14/30\n",
            "375/375 [==============================] - 1s 3ms/step - loss: 0.1626 - accuracy: 0.9908 - val_loss: 1.2381 - val_accuracy: 0.9694\n",
            "Epoch 15/30\n",
            "375/375 [==============================] - 1s 3ms/step - loss: 0.1822 - accuracy: 0.9905 - val_loss: 1.3020 - val_accuracy: 0.9660\n",
            "Epoch 16/30\n",
            "375/375 [==============================] - 1s 3ms/step - loss: 0.1611 - accuracy: 0.9909 - val_loss: 1.0998 - val_accuracy: 0.9728\n",
            "Epoch 17/30\n",
            "375/375 [==============================] - 1s 3ms/step - loss: 0.1272 - accuracy: 0.9927 - val_loss: 1.1279 - val_accuracy: 0.9739\n",
            "Epoch 18/30\n",
            "375/375 [==============================] - 2s 5ms/step - loss: 0.1274 - accuracy: 0.9929 - val_loss: 1.1128 - val_accuracy: 0.9740\n",
            "Epoch 19/30\n",
            "375/375 [==============================] - 1s 4ms/step - loss: 0.1204 - accuracy: 0.9933 - val_loss: 1.2986 - val_accuracy: 0.9737\n",
            "Epoch 20/30\n",
            "375/375 [==============================] - 1s 3ms/step - loss: 0.1446 - accuracy: 0.9933 - val_loss: 1.4009 - val_accuracy: 0.9701\n",
            "Epoch 21/30\n",
            "375/375 [==============================] - 1s 3ms/step - loss: 0.1158 - accuracy: 0.9939 - val_loss: 1.3977 - val_accuracy: 0.9735\n",
            "Epoch 22/30\n",
            "375/375 [==============================] - 1s 3ms/step - loss: 0.1087 - accuracy: 0.9945 - val_loss: 1.3143 - val_accuracy: 0.9747\n",
            "Epoch 23/30\n",
            "375/375 [==============================] - 1s 3ms/step - loss: 0.1238 - accuracy: 0.9936 - val_loss: 1.4256 - val_accuracy: 0.9728\n",
            "Epoch 24/30\n",
            "375/375 [==============================] - 1s 3ms/step - loss: 0.0992 - accuracy: 0.9947 - val_loss: 1.2596 - val_accuracy: 0.9767\n",
            "Epoch 25/30\n",
            "375/375 [==============================] - 1s 3ms/step - loss: 0.0888 - accuracy: 0.9952 - val_loss: 1.3352 - val_accuracy: 0.9733\n",
            "Epoch 26/30\n",
            "375/375 [==============================] - 1s 3ms/step - loss: 0.0826 - accuracy: 0.9954 - val_loss: 1.2953 - val_accuracy: 0.9762\n",
            "Epoch 27/30\n",
            "375/375 [==============================] - 1s 3ms/step - loss: 0.1003 - accuracy: 0.9951 - val_loss: 1.5649 - val_accuracy: 0.9722\n",
            "Epoch 28/30\n",
            "375/375 [==============================] - 2s 4ms/step - loss: 0.1159 - accuracy: 0.9945 - val_loss: 1.6262 - val_accuracy: 0.9714\n",
            "Epoch 29/30\n",
            "375/375 [==============================] - 1s 3ms/step - loss: 0.0737 - accuracy: 0.9961 - val_loss: 1.5304 - val_accuracy: 0.9731\n",
            "Epoch 30/30\n",
            "375/375 [==============================] - 1s 4ms/step - loss: 0.0819 - accuracy: 0.9958 - val_loss: 1.6298 - val_accuracy: 0.9708\n"
          ]
        }
      ]
    },
    {
      "cell_type": "markdown",
      "metadata": {
        "id": "T-cncumWWCBd"
      },
      "source": [
        "## step 6. 훈련과정 시각화"
      ]
    },
    {
      "cell_type": "code",
      "metadata": {
        "id": "nQ0W2_3aiCZd",
        "colab": {
          "base_uri": "https://localhost:8080/"
        },
        "outputId": "f5199f92-374b-47e9-ea6d-54623ab30906"
      },
      "source": [
        "history.history.keys()"
      ],
      "execution_count": 18,
      "outputs": [
        {
          "output_type": "execute_result",
          "data": {
            "text/plain": [
              "dict_keys(['loss', 'accuracy', 'val_loss', 'val_accuracy'])"
            ]
          },
          "metadata": {},
          "execution_count": 18
        }
      ]
    },
    {
      "cell_type": "code",
      "metadata": {
        "id": "tfb89V87iCcN"
      },
      "source": [
        "loss = history.history['loss']\n",
        "val_loss = history.history['val_loss']\n",
        "\n",
        "acc = history.history['accuracy']\n",
        "val_acc = history.history['val_accuracy']\n",
        "\n",
        "epochs = range(len(acc))"
      ],
      "execution_count": 19,
      "outputs": []
    },
    {
      "cell_type": "code",
      "metadata": {
        "id": "BSC70y9LiCfi",
        "colab": {
          "base_uri": "https://localhost:8080/",
          "height": 281
        },
        "outputId": "eb01a056-2491-4ff5-8143-f952e3a6fe69"
      },
      "source": [
        "plt.plot(epochs, acc, 'bo', label='Training acc')\n",
        "plt.plot(epochs, val_acc, 'b', label='Validation acc')\n",
        "plt.title('Training and validation accuracy')\n",
        "plt.legend()\n",
        "\n",
        "plt.show()"
      ],
      "execution_count": 20,
      "outputs": [
        {
          "output_type": "display_data",
          "data": {
            "text/plain": [
              "<Figure size 432x288 with 1 Axes>"
            ],
            "image/png": "[encoded data removed]"
          },
          "metadata": {
            "needs_background": "light"
          }
        }
      ]
    },
    {
      "cell_type": "code",
      "metadata": {
        "id": "RTE5iapAJl5m",
        "colab": {
          "base_uri": "https://localhost:8080/",
          "height": 281
        },
        "outputId": "8c20573d-ab41-4a0b-cd75-a9c0c48a1a1b"
      },
      "source": [
        "plt.plot(epochs, loss, 'bo', label='Training loss')\n",
        "plt.plot(epochs, val_loss, 'b', label='Validation loss')\n",
        "plt.title('Training and validation loss')\n",
        "plt.legend()\n",
        "\n",
        "plt.show()"
      ],
      "execution_count": 21,
      "outputs": [
        {
          "output_type": "display_data",
          "data": {
            "text/plain": [
              "<Figure size 432x288 with 1 Axes>"
            ],
            "image/png": "[encoded data removed]"
          },
          "metadata": {
            "needs_background": "light"
          }
        }
      ]
    },
    {
      "cell_type": "markdown",
      "metadata": {
        "id": "rhD6QAD1WGfi"
      },
      "source": [
        "## step 7. 평가"
      ]
    },
    {
      "cell_type": "code",
      "metadata": {
        "id": "-pwi-bKViC9H",
        "colab": {
          "base_uri": "https://localhost:8080/"
        },
        "outputId": "523d760c-4961-4fd7-8245-c22eb630b71c"
      },
      "source": [
        "test_loss, test_acc = model.evaluate(test_images, test_labels)"
      ],
      "execution_count": 22,
      "outputs": [
        {
          "output_type": "stream",
          "name": "stdout",
          "text": [
            "313/313 [==============================] - 1s 3ms/step - loss: 1.1870 - accuracy: 0.9746\n"
          ]
        }
      ]
    },
    {
      "cell_type": "markdown",
      "metadata": {
        "id": "r-2XQaNrWOd2"
      },
      "source": [
        "## step 8. 예측하기"
      ]
    },
    {
      "cell_type": "code",
      "metadata": {
        "id": "-IIf2yz6UlqH"
      },
      "source": [
        "import numpy as np"
      ],
      "execution_count": 23,
      "outputs": []
    },
    {
      "cell_type": "code",
      "metadata": {
        "id": "2sQMjjuciDjj",
        "colab": {
          "base_uri": "https://localhost:8080/"
        },
        "outputId": "70126c73-53d4-4c57-cb0b-7db36be2963e"
      },
      "source": [
        "predict = model.predict(test_images[0].reshape(1, 784))\n",
        "\n",
        "print(\"predict probability:\", predict)  \n",
        "print('predict number:', np.argmax(predict))"
      ],
      "execution_count": 24,
      "outputs": [
        {
          "output_type": "stream",
          "name": "stdout",
          "text": [
            "1/1 [==============================] - 0s 115ms/step\n",
            "predict probability: [[0. 0. 0. 0. 0. 0. 0. 1. 0. 0.]]\n",
            "predict number: 7\n"
          ]
        }
      ]
    },
    {
      "cell_type": "code",
      "metadata": {
        "id": "GyLr4vSMiDmr",
        "colab": {
          "base_uri": "https://localhost:8080/"
        },
        "outputId": "e5defeee-3337-4d89-c033-ce69e315fdd7"
      },
      "source": [
        "np.max(predict)"
      ],
      "execution_count": 25,
      "outputs": [
        {
          "output_type": "execute_result",
          "data": {
            "text/plain": [
              "1.0"
            ]
          },
          "metadata": {},
          "execution_count": 25
        }
      ]
    },
    {
      "cell_type": "code",
      "metadata": {
        "id": "kM-NrDpoUcgC",
        "colab": {
          "base_uri": "https://localhost:8080/"
        },
        "outputId": "38a44622-54dc-40b7-df42-994216aab778"
      },
      "source": [
        "np.argmax(test_labels[0])"
      ],
      "execution_count": 26,
      "outputs": [
        {
          "output_type": "execute_result",
          "data": {
            "text/plain": [
              "7"
            ]
          },
          "metadata": {},
          "execution_count": 26
        }
      ]
    },
    {
      "cell_type": "code",
      "metadata": {
        "id": "fY-M0l4iUsVW",
        "colab": {
          "base_uri": "https://localhost:8080/",
          "height": 265
        },
        "outputId": "75723a91-1c92-4d9d-c01a-c714e69c7d82"
      },
      "source": [
        "# 데이터 보여주기\n",
        "plt.figure()\n",
        "plt.imshow(test_images[0].reshape(28, 28))\n",
        "plt.colorbar()\n",
        "plt.grid(False)\n",
        "plt.show()"
      ],
      "execution_count": 27,
      "outputs": [
        {
          "output_type": "display_data",
          "data": {
            "text/plain": [
              "<Figure size 432x288 with 2 Axes>"
            ],
            "image/png": "[encoded data removed]"
          },
          "metadata": {
            "needs_background": "light"
          }
        }
      ]
    },
    {
      "cell_type": "code",
      "metadata": {
        "id": "EpVchlZSVX3v",
        "colab": {
          "base_uri": "https://localhost:8080/"
        },
        "outputId": "e7008642-020b-4cb5-e0a2-a1446605fd76"
      },
      "source": [
        "predict = model.predict(test_images[-1].reshape(1, 784)) #len(test_images) - 1\n",
        "\n",
        "print(\"predict probability:\", predict)  \n",
        "print('predict number:', np.argmax(predict))"
      ],
      "execution_count": 28,
      "outputs": [
        {
          "output_type": "stream",
          "name": "stdout",
          "text": [
            "1/1 [==============================] - 0s 31ms/step\n",
            "predict probability: [[0. 0. 0. 0. 0. 0. 1. 0. 0. 0.]]\n",
            "predict number: 6\n"
          ]
        }
      ]
    },
    {
      "cell_type": "code",
      "metadata": {
        "id": "SL7ye0yrVbZS",
        "colab": {
          "base_uri": "https://localhost:8080/",
          "height": 266
        },
        "outputId": "65cb826f-a091-45c5-e6e9-46e2337f2df3"
      },
      "source": [
        "# 데이터 보여주기\n",
        "plt.figure()\n",
        "plt.imshow(test_images[-1].reshape(28, 28))\n",
        "plt.colorbar()\n",
        "plt.grid(False)\n",
        "plt.show()"
      ],
      "execution_count": 29,
      "outputs": [
        {
          "output_type": "display_data",
          "data": {
            "text/plain": [
              "<Figure size 432x288 with 2 Axes>"
            ],
            "image/png": "[encoded data removed]"
          },
          "metadata": {
            "needs_background": "light"
          }
        }
      ]
    }
  ]
}