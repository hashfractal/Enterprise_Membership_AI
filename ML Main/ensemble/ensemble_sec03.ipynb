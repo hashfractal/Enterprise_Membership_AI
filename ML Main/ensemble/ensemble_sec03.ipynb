{
 "cells": [
  {
   "cell_type": "code",
   "execution_count": 4,
   "id": "ee36a353",
   "metadata": {},
   "outputs": [
    {
     "name": "stderr",
     "output_type": "stream",
     "text": [
      "c:\\ProgramData\\Anaconda3\\envs\\AI\\lib\\site-packages\\sklearn\\ensemble\\_bagging.py:791: UserWarning: Some inputs do not have OOB scores. This probably means too few estimators were used to compute any reliable oob estimates.\n",
      "  warn(\n",
      "c:\\ProgramData\\Anaconda3\\envs\\AI\\lib\\site-packages\\sklearn\\ensemble\\_bagging.py:797: RuntimeWarning: invalid value encountered in divide\n",
      "  oob_decision_function = predictions / predictions.sum(axis=1)[:, np.newaxis]\n",
      "c:\\ProgramData\\Anaconda3\\envs\\AI\\lib\\site-packages\\sklearn\\ensemble\\_bagging.py:791: UserWarning: Some inputs do not have OOB scores. This probably means too few estimators were used to compute any reliable oob estimates.\n",
      "  warn(\n",
      "c:\\ProgramData\\Anaconda3\\envs\\AI\\lib\\site-packages\\sklearn\\ensemble\\_bagging.py:797: RuntimeWarning: invalid value encountered in divide\n",
      "  oob_decision_function = predictions / predictions.sum(axis=1)[:, np.newaxis]\n",
      "c:\\ProgramData\\Anaconda3\\envs\\AI\\lib\\site-packages\\sklearn\\ensemble\\_bagging.py:791: UserWarning: Some inputs do not have OOB scores. This probably means too few estimators were used to compute any reliable oob estimates.\n",
      "  warn(\n",
      "c:\\ProgramData\\Anaconda3\\envs\\AI\\lib\\site-packages\\sklearn\\ensemble\\_bagging.py:797: RuntimeWarning: invalid value encountered in divide\n",
      "  oob_decision_function = predictions / predictions.sum(axis=1)[:, np.newaxis]\n",
      "c:\\ProgramData\\Anaconda3\\envs\\AI\\lib\\site-packages\\sklearn\\ensemble\\_bagging.py:791: UserWarning: Some inputs do not have OOB scores. This probably means too few estimators were used to compute any reliable oob estimates.\n",
      "  warn(\n",
      "c:\\ProgramData\\Anaconda3\\envs\\AI\\lib\\site-packages\\sklearn\\ensemble\\_bagging.py:797: RuntimeWarning: invalid value encountered in divide\n",
      "  oob_decision_function = predictions / predictions.sum(axis=1)[:, np.newaxis]\n",
      "c:\\ProgramData\\Anaconda3\\envs\\AI\\lib\\site-packages\\sklearn\\ensemble\\_bagging.py:791: UserWarning: Some inputs do not have OOB scores. This probably means too few estimators were used to compute any reliable oob estimates.\n",
      "  warn(\n",
      "c:\\ProgramData\\Anaconda3\\envs\\AI\\lib\\site-packages\\sklearn\\ensemble\\_bagging.py:797: RuntimeWarning: invalid value encountered in divide\n",
      "  oob_decision_function = predictions / predictions.sum(axis=1)[:, np.newaxis]\n"
     ]
    },
    {
     "data": {
      "text/plain": [
       "0.8256649527074208"
      ]
     },
     "execution_count": 4,
     "metadata": {},
     "output_type": "execute_result"
    }
   ],
   "source": [
    "import numpy as np\n",
    "\n",
    "from sklearn.tree import DecisionTreeClassifier\n",
    "from sklearn.linear_model import LogisticRegression\n",
    "from sklearn.ensemble import BaggingClassifier\n",
    "\n",
    "X = np.load(\"C:\\\\SJ\\\\Enterprise_Membership_AI\\\\ML Main\\\\ensemble\\\\titanic_X_train.npy\")\n",
    "y = np.load(\"C:\\\\SJ\\\\Enterprise_Membership_AI\\\\ML Main\\\\ensemble\\\\titanic_y_train.npy\")\n",
    "clf1 = LogisticRegression(random_state=1)\n",
    "eclf = BaggingClassifier(clf1, oob_score=True)\n",
    "\n",
    "from sklearn.model_selection import cross_val_score\n",
    "cross_val_score(eclf, X, y, cv=5).mean()"
   ]
  },
  {
   "cell_type": "code",
   "execution_count": 5,
   "id": "0414edd1",
   "metadata": {},
   "outputs": [
    {
     "name": "stderr",
     "output_type": "stream",
     "text": [
      "c:\\ProgramData\\Anaconda3\\envs\\AI\\lib\\site-packages\\sklearn\\ensemble\\_bagging.py:791: UserWarning: Some inputs do not have OOB scores. This probably means too few estimators were used to compute any reliable oob estimates.\n",
      "  warn(\n",
      "c:\\ProgramData\\Anaconda3\\envs\\AI\\lib\\site-packages\\sklearn\\ensemble\\_bagging.py:797: RuntimeWarning: invalid value encountered in divide\n",
      "  oob_decision_function = predictions / predictions.sum(axis=1)[:, np.newaxis]\n",
      "c:\\ProgramData\\Anaconda3\\envs\\AI\\lib\\site-packages\\sklearn\\ensemble\\_bagging.py:791: UserWarning: Some inputs do not have OOB scores. This probably means too few estimators were used to compute any reliable oob estimates.\n",
      "  warn(\n",
      "c:\\ProgramData\\Anaconda3\\envs\\AI\\lib\\site-packages\\sklearn\\ensemble\\_bagging.py:797: RuntimeWarning: invalid value encountered in divide\n",
      "  oob_decision_function = predictions / predictions.sum(axis=1)[:, np.newaxis]\n",
      "c:\\ProgramData\\Anaconda3\\envs\\AI\\lib\\site-packages\\sklearn\\ensemble\\_bagging.py:791: UserWarning: Some inputs do not have OOB scores. This probably means too few estimators were used to compute any reliable oob estimates.\n",
      "  warn(\n",
      "c:\\ProgramData\\Anaconda3\\envs\\AI\\lib\\site-packages\\sklearn\\ensemble\\_bagging.py:797: RuntimeWarning: invalid value encountered in divide\n",
      "  oob_decision_function = predictions / predictions.sum(axis=1)[:, np.newaxis]\n",
      "c:\\ProgramData\\Anaconda3\\envs\\AI\\lib\\site-packages\\sklearn\\ensemble\\_bagging.py:791: UserWarning: Some inputs do not have OOB scores. This probably means too few estimators were used to compute any reliable oob estimates.\n",
      "  warn(\n",
      "c:\\ProgramData\\Anaconda3\\envs\\AI\\lib\\site-packages\\sklearn\\ensemble\\_bagging.py:797: RuntimeWarning: invalid value encountered in divide\n",
      "  oob_decision_function = predictions / predictions.sum(axis=1)[:, np.newaxis]\n",
      "c:\\ProgramData\\Anaconda3\\envs\\AI\\lib\\site-packages\\sklearn\\ensemble\\_bagging.py:791: UserWarning: Some inputs do not have OOB scores. This probably means too few estimators were used to compute any reliable oob estimates.\n",
      "  warn(\n",
      "c:\\ProgramData\\Anaconda3\\envs\\AI\\lib\\site-packages\\sklearn\\ensemble\\_bagging.py:797: RuntimeWarning: invalid value encountered in divide\n",
      "  oob_decision_function = predictions / predictions.sum(axis=1)[:, np.newaxis]\n",
      "c:\\ProgramData\\Anaconda3\\envs\\AI\\lib\\site-packages\\sklearn\\ensemble\\_bagging.py:791: UserWarning: Some inputs do not have OOB scores. This probably means too few estimators were used to compute any reliable oob estimates.\n",
      "  warn(\n",
      "c:\\ProgramData\\Anaconda3\\envs\\AI\\lib\\site-packages\\sklearn\\ensemble\\_bagging.py:797: RuntimeWarning: invalid value encountered in divide\n",
      "  oob_decision_function = predictions / predictions.sum(axis=1)[:, np.newaxis]\n",
      "c:\\ProgramData\\Anaconda3\\envs\\AI\\lib\\site-packages\\sklearn\\ensemble\\_bagging.py:791: UserWarning: Some inputs do not have OOB scores. This probably means too few estimators were used to compute any reliable oob estimates.\n",
      "  warn(\n",
      "c:\\ProgramData\\Anaconda3\\envs\\AI\\lib\\site-packages\\sklearn\\ensemble\\_bagging.py:797: RuntimeWarning: invalid value encountered in divide\n",
      "  oob_decision_function = predictions / predictions.sum(axis=1)[:, np.newaxis]\n",
      "c:\\ProgramData\\Anaconda3\\envs\\AI\\lib\\site-packages\\sklearn\\ensemble\\_bagging.py:791: UserWarning: Some inputs do not have OOB scores. This probably means too few estimators were used to compute any reliable oob estimates.\n",
      "  warn(\n",
      "c:\\ProgramData\\Anaconda3\\envs\\AI\\lib\\site-packages\\sklearn\\ensemble\\_bagging.py:797: RuntimeWarning: invalid value encountered in divide\n",
      "  oob_decision_function = predictions / predictions.sum(axis=1)[:, np.newaxis]\n",
      "c:\\ProgramData\\Anaconda3\\envs\\AI\\lib\\site-packages\\sklearn\\ensemble\\_bagging.py:791: UserWarning: Some inputs do not have OOB scores. This probably means too few estimators were used to compute any reliable oob estimates.\n",
      "  warn(\n",
      "c:\\ProgramData\\Anaconda3\\envs\\AI\\lib\\site-packages\\sklearn\\ensemble\\_bagging.py:797: RuntimeWarning: invalid value encountered in divide\n",
      "  oob_decision_function = predictions / predictions.sum(axis=1)[:, np.newaxis]\n",
      "c:\\ProgramData\\Anaconda3\\envs\\AI\\lib\\site-packages\\sklearn\\ensemble\\_bagging.py:791: UserWarning: Some inputs do not have OOB scores. This probably means too few estimators were used to compute any reliable oob estimates.\n",
      "  warn(\n",
      "c:\\ProgramData\\Anaconda3\\envs\\AI\\lib\\site-packages\\sklearn\\ensemble\\_bagging.py:797: RuntimeWarning: invalid value encountered in divide\n",
      "  oob_decision_function = predictions / predictions.sum(axis=1)[:, np.newaxis]\n",
      "c:\\ProgramData\\Anaconda3\\envs\\AI\\lib\\site-packages\\sklearn\\ensemble\\_bagging.py:791: UserWarning: Some inputs do not have OOB scores. This probably means too few estimators were used to compute any reliable oob estimates.\n",
      "  warn(\n",
      "c:\\ProgramData\\Anaconda3\\envs\\AI\\lib\\site-packages\\sklearn\\ensemble\\_bagging.py:797: RuntimeWarning: invalid value encountered in divide\n",
      "  oob_decision_function = predictions / predictions.sum(axis=1)[:, np.newaxis]\n",
      "c:\\ProgramData\\Anaconda3\\envs\\AI\\lib\\site-packages\\sklearn\\ensemble\\_bagging.py:791: UserWarning: Some inputs do not have OOB scores. This probably means too few estimators were used to compute any reliable oob estimates.\n",
      "  warn(\n",
      "c:\\ProgramData\\Anaconda3\\envs\\AI\\lib\\site-packages\\sklearn\\ensemble\\_bagging.py:797: RuntimeWarning: invalid value encountered in divide\n",
      "  oob_decision_function = predictions / predictions.sum(axis=1)[:, np.newaxis]\n"
     ]
    },
    {
     "data": {
      "text/plain": [
       "0.8290420872214816"
      ]
     },
     "execution_count": 5,
     "metadata": {},
     "output_type": "execute_result"
    }
   ],
   "source": [
    "params ={\n",
    "    \"n_estimators\" : [10,20,30,40,50,55],\n",
    "    \"max_samples\" : [0.5,0.6,0.7,0.8,0.9,1]\n",
    "}\n",
    "\n",
    "from sklearn.model_selection import GridSearchCV\n",
    "grid = GridSearchCV(estimator=eclf, param_grid=params, cv=5)\n",
    "grid = grid.fit(X, y)\n",
    "\n",
    "grid.best_score_"
   ]
  },
  {
   "cell_type": "code",
   "execution_count": 6,
   "id": "b5cf1b86",
   "metadata": {},
   "outputs": [
    {
     "data": {
      "text/plain": [
       "{'max_samples': 0.9, 'n_estimators': 30}"
      ]
     },
     "execution_count": 6,
     "metadata": {},
     "output_type": "execute_result"
    }
   ],
   "source": [
    "grid.best_params_"
   ]
  },
  {
   "cell_type": "code",
   "execution_count": 7,
   "id": "a40c4551",
   "metadata": {},
   "outputs": [
    {
     "data": {
      "text/plain": [
       "0.8278965129358831"
      ]
     },
     "execution_count": 7,
     "metadata": {},
     "output_type": "execute_result"
    }
   ],
   "source": [
    "grid.best_estimator_.oob_score_"
   ]
  },
  {
   "cell_type": "code",
   "execution_count": 10,
   "id": "12a295d9",
   "metadata": {},
   "outputs": [
    {
     "data": {
      "text/plain": [
       "0.8031803466006476"
      ]
     },
     "execution_count": 10,
     "metadata": {},
     "output_type": "execute_result"
    }
   ],
   "source": [
    "import numpy as np\n",
    "from sklearn.ensemble import RandomForestClassifier\n",
    "\n",
    "X = np.load(\"C:\\\\SJ\\\\Enterprise_Membership_AI\\\\ML Main\\\\ensemble\\\\titanic_X_train.npy\")\n",
    "y = np.load(\"C:\\\\SJ\\\\Enterprise_Membership_AI\\\\ML Main\\\\ensemble\\\\titanic_y_train.npy\")\n",
    "\n",
    "eclf = RandomForestClassifier(n_estimators=100, max_features=2, n_jobs=7, oob_score=True)\n",
    "\n",
    "from sklearn.model_selection import cross_val_score\n",
    "cross_val_score(eclf, X, y, cv=5).mean()"
   ]
  },
  {
   "cell_type": "code",
   "execution_count": 11,
   "id": "f2cc43d7",
   "metadata": {},
   "outputs": [
    {
     "name": "stderr",
     "output_type": "stream",
     "text": [
      "c:\\ProgramData\\Anaconda3\\envs\\AI\\lib\\site-packages\\sklearn\\ensemble\\_forest.py:584: UserWarning: Some inputs do not have OOB scores. This probably means too few trees were used to compute any reliable OOB estimates.\n",
      "  warn(\n",
      "c:\\ProgramData\\Anaconda3\\envs\\AI\\lib\\site-packages\\sklearn\\ensemble\\_forest.py:584: UserWarning: Some inputs do not have OOB scores. This probably means too few trees were used to compute any reliable OOB estimates.\n",
      "  warn(\n",
      "c:\\ProgramData\\Anaconda3\\envs\\AI\\lib\\site-packages\\sklearn\\ensemble\\_forest.py:584: UserWarning: Some inputs do not have OOB scores. This probably means too few trees were used to compute any reliable OOB estimates.\n",
      "  warn(\n",
      "c:\\ProgramData\\Anaconda3\\envs\\AI\\lib\\site-packages\\sklearn\\ensemble\\_forest.py:584: UserWarning: Some inputs do not have OOB scores. This probably means too few trees were used to compute any reliable OOB estimates.\n",
      "  warn(\n",
      "c:\\ProgramData\\Anaconda3\\envs\\AI\\lib\\site-packages\\sklearn\\ensemble\\_forest.py:584: UserWarning: Some inputs do not have OOB scores. This probably means too few trees were used to compute any reliable OOB estimates.\n",
      "  warn(\n",
      "c:\\ProgramData\\Anaconda3\\envs\\AI\\lib\\site-packages\\sklearn\\ensemble\\_forest.py:584: UserWarning: Some inputs do not have OOB scores. This probably means too few trees were used to compute any reliable OOB estimates.\n",
      "  warn(\n",
      "c:\\ProgramData\\Anaconda3\\envs\\AI\\lib\\site-packages\\sklearn\\ensemble\\_forest.py:584: UserWarning: Some inputs do not have OOB scores. This probably means too few trees were used to compute any reliable OOB estimates.\n",
      "  warn(\n",
      "c:\\ProgramData\\Anaconda3\\envs\\AI\\lib\\site-packages\\sklearn\\ensemble\\_forest.py:584: UserWarning: Some inputs do not have OOB scores. This probably means too few trees were used to compute any reliable OOB estimates.\n",
      "  warn(\n",
      "c:\\ProgramData\\Anaconda3\\envs\\AI\\lib\\site-packages\\sklearn\\ensemble\\_forest.py:584: UserWarning: Some inputs do not have OOB scores. This probably means too few trees were used to compute any reliable OOB estimates.\n",
      "  warn(\n",
      "c:\\ProgramData\\Anaconda3\\envs\\AI\\lib\\site-packages\\sklearn\\ensemble\\_forest.py:584: UserWarning: Some inputs do not have OOB scores. This probably means too few trees were used to compute any reliable OOB estimates.\n",
      "  warn(\n",
      "c:\\ProgramData\\Anaconda3\\envs\\AI\\lib\\site-packages\\sklearn\\ensemble\\_forest.py:584: UserWarning: Some inputs do not have OOB scores. This probably means too few trees were used to compute any reliable OOB estimates.\n",
      "  warn(\n",
      "c:\\ProgramData\\Anaconda3\\envs\\AI\\lib\\site-packages\\sklearn\\ensemble\\_forest.py:584: UserWarning: Some inputs do not have OOB scores. This probably means too few trees were used to compute any reliable OOB estimates.\n",
      "  warn(\n",
      "c:\\ProgramData\\Anaconda3\\envs\\AI\\lib\\site-packages\\sklearn\\ensemble\\_forest.py:584: UserWarning: Some inputs do not have OOB scores. This probably means too few trees were used to compute any reliable OOB estimates.\n",
      "  warn(\n",
      "c:\\ProgramData\\Anaconda3\\envs\\AI\\lib\\site-packages\\sklearn\\ensemble\\_forest.py:584: UserWarning: Some inputs do not have OOB scores. This probably means too few trees were used to compute any reliable OOB estimates.\n",
      "  warn(\n",
      "c:\\ProgramData\\Anaconda3\\envs\\AI\\lib\\site-packages\\sklearn\\ensemble\\_forest.py:584: UserWarning: Some inputs do not have OOB scores. This probably means too few trees were used to compute any reliable OOB estimates.\n",
      "  warn(\n",
      "c:\\ProgramData\\Anaconda3\\envs\\AI\\lib\\site-packages\\sklearn\\ensemble\\_forest.py:584: UserWarning: Some inputs do not have OOB scores. This probably means too few trees were used to compute any reliable OOB estimates.\n",
      "  warn(\n",
      "c:\\ProgramData\\Anaconda3\\envs\\AI\\lib\\site-packages\\sklearn\\ensemble\\_forest.py:584: UserWarning: Some inputs do not have OOB scores. This probably means too few trees were used to compute any reliable OOB estimates.\n",
      "  warn(\n",
      "c:\\ProgramData\\Anaconda3\\envs\\AI\\lib\\site-packages\\sklearn\\ensemble\\_forest.py:584: UserWarning: Some inputs do not have OOB scores. This probably means too few trees were used to compute any reliable OOB estimates.\n",
      "  warn(\n",
      "c:\\ProgramData\\Anaconda3\\envs\\AI\\lib\\site-packages\\sklearn\\ensemble\\_forest.py:584: UserWarning: Some inputs do not have OOB scores. This probably means too few trees were used to compute any reliable OOB estimates.\n",
      "  warn(\n",
      "c:\\ProgramData\\Anaconda3\\envs\\AI\\lib\\site-packages\\sklearn\\ensemble\\_forest.py:584: UserWarning: Some inputs do not have OOB scores. This probably means too few trees were used to compute any reliable OOB estimates.\n",
      "  warn(\n",
      "c:\\ProgramData\\Anaconda3\\envs\\AI\\lib\\site-packages\\sklearn\\ensemble\\_forest.py:584: UserWarning: Some inputs do not have OOB scores. This probably means too few trees were used to compute any reliable OOB estimates.\n",
      "  warn(\n",
      "c:\\ProgramData\\Anaconda3\\envs\\AI\\lib\\site-packages\\sklearn\\ensemble\\_forest.py:584: UserWarning: Some inputs do not have OOB scores. This probably means too few trees were used to compute any reliable OOB estimates.\n",
      "  warn(\n",
      "c:\\ProgramData\\Anaconda3\\envs\\AI\\lib\\site-packages\\sklearn\\ensemble\\_forest.py:584: UserWarning: Some inputs do not have OOB scores. This probably means too few trees were used to compute any reliable OOB estimates.\n",
      "  warn(\n",
      "c:\\ProgramData\\Anaconda3\\envs\\AI\\lib\\site-packages\\sklearn\\ensemble\\_forest.py:584: UserWarning: Some inputs do not have OOB scores. This probably means too few trees were used to compute any reliable OOB estimates.\n",
      "  warn(\n",
      "c:\\ProgramData\\Anaconda3\\envs\\AI\\lib\\site-packages\\sklearn\\ensemble\\_forest.py:584: UserWarning: Some inputs do not have OOB scores. This probably means too few trees were used to compute any reliable OOB estimates.\n",
      "  warn(\n",
      "c:\\ProgramData\\Anaconda3\\envs\\AI\\lib\\site-packages\\sklearn\\ensemble\\_forest.py:584: UserWarning: Some inputs do not have OOB scores. This probably means too few trees were used to compute any reliable OOB estimates.\n",
      "  warn(\n",
      "c:\\ProgramData\\Anaconda3\\envs\\AI\\lib\\site-packages\\sklearn\\ensemble\\_forest.py:584: UserWarning: Some inputs do not have OOB scores. This probably means too few trees were used to compute any reliable OOB estimates.\n",
      "  warn(\n",
      "c:\\ProgramData\\Anaconda3\\envs\\AI\\lib\\site-packages\\sklearn\\ensemble\\_forest.py:584: UserWarning: Some inputs do not have OOB scores. This probably means too few trees were used to compute any reliable OOB estimates.\n",
      "  warn(\n",
      "c:\\ProgramData\\Anaconda3\\envs\\AI\\lib\\site-packages\\sklearn\\ensemble\\_forest.py:584: UserWarning: Some inputs do not have OOB scores. This probably means too few trees were used to compute any reliable OOB estimates.\n",
      "  warn(\n",
      "c:\\ProgramData\\Anaconda3\\envs\\AI\\lib\\site-packages\\sklearn\\ensemble\\_forest.py:584: UserWarning: Some inputs do not have OOB scores. This probably means too few trees were used to compute any reliable OOB estimates.\n",
      "  warn(\n",
      "c:\\ProgramData\\Anaconda3\\envs\\AI\\lib\\site-packages\\sklearn\\ensemble\\_forest.py:584: UserWarning: Some inputs do not have OOB scores. This probably means too few trees were used to compute any reliable OOB estimates.\n",
      "  warn(\n",
      "c:\\ProgramData\\Anaconda3\\envs\\AI\\lib\\site-packages\\sklearn\\ensemble\\_forest.py:584: UserWarning: Some inputs do not have OOB scores. This probably means too few trees were used to compute any reliable OOB estimates.\n",
      "  warn(\n",
      "c:\\ProgramData\\Anaconda3\\envs\\AI\\lib\\site-packages\\sklearn\\ensemble\\_forest.py:584: UserWarning: Some inputs do not have OOB scores. This probably means too few trees were used to compute any reliable OOB estimates.\n",
      "  warn(\n",
      "c:\\ProgramData\\Anaconda3\\envs\\AI\\lib\\site-packages\\sklearn\\ensemble\\_forest.py:584: UserWarning: Some inputs do not have OOB scores. This probably means too few trees were used to compute any reliable OOB estimates.\n",
      "  warn(\n",
      "c:\\ProgramData\\Anaconda3\\envs\\AI\\lib\\site-packages\\sklearn\\ensemble\\_forest.py:584: UserWarning: Some inputs do not have OOB scores. This probably means too few trees were used to compute any reliable OOB estimates.\n",
      "  warn(\n",
      "c:\\ProgramData\\Anaconda3\\envs\\AI\\lib\\site-packages\\sklearn\\ensemble\\_forest.py:584: UserWarning: Some inputs do not have OOB scores. This probably means too few trees were used to compute any reliable OOB estimates.\n",
      "  warn(\n",
      "c:\\ProgramData\\Anaconda3\\envs\\AI\\lib\\site-packages\\sklearn\\ensemble\\_forest.py:584: UserWarning: Some inputs do not have OOB scores. This probably means too few trees were used to compute any reliable OOB estimates.\n",
      "  warn(\n",
      "c:\\ProgramData\\Anaconda3\\envs\\AI\\lib\\site-packages\\sklearn\\ensemble\\_forest.py:584: UserWarning: Some inputs do not have OOB scores. This probably means too few trees were used to compute any reliable OOB estimates.\n",
      "  warn(\n",
      "c:\\ProgramData\\Anaconda3\\envs\\AI\\lib\\site-packages\\sklearn\\ensemble\\_forest.py:584: UserWarning: Some inputs do not have OOB scores. This probably means too few trees were used to compute any reliable OOB estimates.\n",
      "  warn(\n",
      "c:\\ProgramData\\Anaconda3\\envs\\AI\\lib\\site-packages\\sklearn\\ensemble\\_forest.py:584: UserWarning: Some inputs do not have OOB scores. This probably means too few trees were used to compute any reliable OOB estimates.\n",
      "  warn(\n",
      "c:\\ProgramData\\Anaconda3\\envs\\AI\\lib\\site-packages\\sklearn\\ensemble\\_forest.py:584: UserWarning: Some inputs do not have OOB scores. This probably means too few trees were used to compute any reliable OOB estimates.\n",
      "  warn(\n",
      "c:\\ProgramData\\Anaconda3\\envs\\AI\\lib\\site-packages\\sklearn\\ensemble\\_forest.py:584: UserWarning: Some inputs do not have OOB scores. This probably means too few trees were used to compute any reliable OOB estimates.\n",
      "  warn(\n",
      "c:\\ProgramData\\Anaconda3\\envs\\AI\\lib\\site-packages\\sklearn\\ensemble\\_forest.py:584: UserWarning: Some inputs do not have OOB scores. This probably means too few trees were used to compute any reliable OOB estimates.\n",
      "  warn(\n",
      "c:\\ProgramData\\Anaconda3\\envs\\AI\\lib\\site-packages\\sklearn\\ensemble\\_forest.py:584: UserWarning: Some inputs do not have OOB scores. This probably means too few trees were used to compute any reliable OOB estimates.\n",
      "  warn(\n",
      "c:\\ProgramData\\Anaconda3\\envs\\AI\\lib\\site-packages\\sklearn\\ensemble\\_forest.py:584: UserWarning: Some inputs do not have OOB scores. This probably means too few trees were used to compute any reliable OOB estimates.\n",
      "  warn(\n",
      "c:\\ProgramData\\Anaconda3\\envs\\AI\\lib\\site-packages\\sklearn\\ensemble\\_forest.py:584: UserWarning: Some inputs do not have OOB scores. This probably means too few trees were used to compute any reliable OOB estimates.\n",
      "  warn(\n",
      "c:\\ProgramData\\Anaconda3\\envs\\AI\\lib\\site-packages\\sklearn\\ensemble\\_forest.py:584: UserWarning: Some inputs do not have OOB scores. This probably means too few trees were used to compute any reliable OOB estimates.\n",
      "  warn(\n",
      "c:\\ProgramData\\Anaconda3\\envs\\AI\\lib\\site-packages\\sklearn\\ensemble\\_forest.py:584: UserWarning: Some inputs do not have OOB scores. This probably means too few trees were used to compute any reliable OOB estimates.\n",
      "  warn(\n",
      "c:\\ProgramData\\Anaconda3\\envs\\AI\\lib\\site-packages\\sklearn\\ensemble\\_forest.py:584: UserWarning: Some inputs do not have OOB scores. This probably means too few trees were used to compute any reliable OOB estimates.\n",
      "  warn(\n",
      "c:\\ProgramData\\Anaconda3\\envs\\AI\\lib\\site-packages\\sklearn\\ensemble\\_forest.py:584: UserWarning: Some inputs do not have OOB scores. This probably means too few trees were used to compute any reliable OOB estimates.\n",
      "  warn(\n",
      "c:\\ProgramData\\Anaconda3\\envs\\AI\\lib\\site-packages\\sklearn\\ensemble\\_forest.py:584: UserWarning: Some inputs do not have OOB scores. This probably means too few trees were used to compute any reliable OOB estimates.\n",
      "  warn(\n",
      "c:\\ProgramData\\Anaconda3\\envs\\AI\\lib\\site-packages\\sklearn\\ensemble\\_forest.py:584: UserWarning: Some inputs do not have OOB scores. This probably means too few trees were used to compute any reliable OOB estimates.\n",
      "  warn(\n",
      "c:\\ProgramData\\Anaconda3\\envs\\AI\\lib\\site-packages\\sklearn\\ensemble\\_forest.py:584: UserWarning: Some inputs do not have OOB scores. This probably means too few trees were used to compute any reliable OOB estimates.\n",
      "  warn(\n",
      "c:\\ProgramData\\Anaconda3\\envs\\AI\\lib\\site-packages\\sklearn\\ensemble\\_forest.py:584: UserWarning: Some inputs do not have OOB scores. This probably means too few trees were used to compute any reliable OOB estimates.\n",
      "  warn(\n",
      "c:\\ProgramData\\Anaconda3\\envs\\AI\\lib\\site-packages\\sklearn\\ensemble\\_forest.py:584: UserWarning: Some inputs do not have OOB scores. This probably means too few trees were used to compute any reliable OOB estimates.\n",
      "  warn(\n",
      "c:\\ProgramData\\Anaconda3\\envs\\AI\\lib\\site-packages\\sklearn\\ensemble\\_forest.py:584: UserWarning: Some inputs do not have OOB scores. This probably means too few trees were used to compute any reliable OOB estimates.\n",
      "  warn(\n",
      "c:\\ProgramData\\Anaconda3\\envs\\AI\\lib\\site-packages\\sklearn\\ensemble\\_forest.py:584: UserWarning: Some inputs do not have OOB scores. This probably means too few trees were used to compute any reliable OOB estimates.\n",
      "  warn(\n",
      "c:\\ProgramData\\Anaconda3\\envs\\AI\\lib\\site-packages\\sklearn\\ensemble\\_forest.py:584: UserWarning: Some inputs do not have OOB scores. This probably means too few trees were used to compute any reliable OOB estimates.\n",
      "  warn(\n",
      "c:\\ProgramData\\Anaconda3\\envs\\AI\\lib\\site-packages\\sklearn\\ensemble\\_forest.py:584: UserWarning: Some inputs do not have OOB scores. This probably means too few trees were used to compute any reliable OOB estimates.\n",
      "  warn(\n",
      "c:\\ProgramData\\Anaconda3\\envs\\AI\\lib\\site-packages\\sklearn\\ensemble\\_forest.py:584: UserWarning: Some inputs do not have OOB scores. This probably means too few trees were used to compute any reliable OOB estimates.\n",
      "  warn(\n",
      "c:\\ProgramData\\Anaconda3\\envs\\AI\\lib\\site-packages\\sklearn\\ensemble\\_forest.py:584: UserWarning: Some inputs do not have OOB scores. This probably means too few trees were used to compute any reliable OOB estimates.\n",
      "  warn(\n",
      "c:\\ProgramData\\Anaconda3\\envs\\AI\\lib\\site-packages\\sklearn\\ensemble\\_forest.py:584: UserWarning: Some inputs do not have OOB scores. This probably means too few trees were used to compute any reliable OOB estimates.\n",
      "  warn(\n",
      "c:\\ProgramData\\Anaconda3\\envs\\AI\\lib\\site-packages\\sklearn\\ensemble\\_forest.py:584: UserWarning: Some inputs do not have OOB scores. This probably means too few trees were used to compute any reliable OOB estimates.\n",
      "  warn(\n",
      "c:\\ProgramData\\Anaconda3\\envs\\AI\\lib\\site-packages\\sklearn\\ensemble\\_forest.py:584: UserWarning: Some inputs do not have OOB scores. This probably means too few trees were used to compute any reliable OOB estimates.\n",
      "  warn(\n",
      "c:\\ProgramData\\Anaconda3\\envs\\AI\\lib\\site-packages\\sklearn\\ensemble\\_forest.py:584: UserWarning: Some inputs do not have OOB scores. This probably means too few trees were used to compute any reliable OOB estimates.\n",
      "  warn(\n",
      "c:\\ProgramData\\Anaconda3\\envs\\AI\\lib\\site-packages\\sklearn\\ensemble\\_forest.py:584: UserWarning: Some inputs do not have OOB scores. This probably means too few trees were used to compute any reliable OOB estimates.\n",
      "  warn(\n"
     ]
    },
    {
     "data": {
      "text/plain": [
       "0.8245730971878371"
      ]
     },
     "execution_count": 11,
     "metadata": {},
     "output_type": "execute_result"
    }
   ],
   "source": [
    "from sklearn.model_selection import GridSearchCV\n",
    "\n",
    "params ={\n",
    "    \"n_estimators\" : [10, 20, 30, 50, 100],\n",
    "    \"max_features\" : [1,2,3,4,5,6,7, 10, 15, 20, 25, len(X[0])]\n",
    "    }\n",
    "\n",
    "grid = GridSearchCV(estimator=eclf, param_grid=params, cv=5)\n",
    "grid = grid.fit(X, y)\n",
    "\n",
    "grid.best_score_"
   ]
  },
  {
   "cell_type": "code",
   "execution_count": 12,
   "id": "bd49ed29",
   "metadata": {},
   "outputs": [
    {
     "data": {
      "text/plain": [
       "{'max_features': 20, 'n_estimators': 20}"
      ]
     },
     "execution_count": 12,
     "metadata": {},
     "output_type": "execute_result"
    }
   ],
   "source": [
    "grid.best_params_"
   ]
  },
  {
   "cell_type": "code",
   "execution_count": 13,
   "id": "12579fdd",
   "metadata": {},
   "outputs": [
    {
     "data": {
      "text/plain": [
       "0.8065241844769404"
      ]
     },
     "execution_count": 13,
     "metadata": {},
     "output_type": "execute_result"
    }
   ],
   "source": [
    "grid.best_estimator_.oob_score_"
   ]
  },
  {
   "cell_type": "code",
   "execution_count": null,
   "id": "7a02eb29",
   "metadata": {},
   "outputs": [],
   "source": []
  }
 ],
 "metadata": {
  "kernelspec": {
   "display_name": "Python 3 (ipykernel)",
   "language": "python",
   "name": "python3"
  },
  "language_info": {
   "codemirror_mode": {
    "name": "ipython",
    "version": 3
   },
   "file_extension": ".py",
   "mimetype": "text/x-python",
   "name": "python",
   "nbconvert_exporter": "python",
   "pygments_lexer": "ipython3",
   "version": "3.9.16"
  }
 },
 "nbformat": 4,
 "nbformat_minor": 5
}
